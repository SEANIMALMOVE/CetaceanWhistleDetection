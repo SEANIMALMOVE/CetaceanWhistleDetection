{
 "cells": [
  {
   "cell_type": "code",
   "execution_count": 6,
   "metadata": {},
   "outputs": [],
   "source": [
    "# Audios/ESC-50 contains folder audios with several audios and folder meta with a csv with structure filename,fold,target,category,esc10,src_file,take - Resort the files puttingin folders by category"
   ]
  },
  {
   "cell_type": "code",
   "execution_count": 1,
   "metadata": {},
   "outputs": [],
   "source": [
    "import os\n",
    "import pandas as pd"
   ]
  },
  {
   "cell_type": "code",
   "execution_count": 4,
   "metadata": {},
   "outputs": [],
   "source": [
    "# Read the csv\n",
    "df = pd.read_csv('../Audios/ESC-50/meta/esc50.csv')\n",
    "# Get the categories\n",
    "categories = df.category.unique()"
   ]
  },
  {
   "cell_type": "code",
   "execution_count": 8,
   "metadata": {},
   "outputs": [
    {
     "name": "stdout",
     "output_type": "stream",
     "text": [
      "Files moved to folders by category\n"
     ]
    }
   ],
   "source": [
    "# Create the folders\n",
    "for category in categories:\n",
    "    os.makedirs('../Audios/ESC-50/audio/'+category, exist_ok=True)\n",
    "# Move the files\n",
    "for index, row in df.iterrows():\n",
    "    os.rename('../Audios/ESC-50/audio/'+row.filename, '../Audios/ESC-50/audio/'+row.category+'/'+row.filename)\n",
    "print('Files moved to folders by category')"
   ]
  }
 ],
 "metadata": {
  "kernelspec": {
   "display_name": "BirdNET",
   "language": "python",
   "name": "python3"
  },
  "language_info": {
   "codemirror_mode": {
    "name": "ipython",
    "version": 3
   },
   "file_extension": ".py",
   "mimetype": "text/x-python",
   "name": "python",
   "nbconvert_exporter": "python",
   "pygments_lexer": "ipython3",
   "version": "3.10.13"
  }
 },
 "nbformat": 4,
 "nbformat_minor": 2
}
