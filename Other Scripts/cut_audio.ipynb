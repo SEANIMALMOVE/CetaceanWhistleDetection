{
 "cells": [
  {
   "cell_type": "markdown",
   "id": "f6325d89",
   "metadata": {},
   "source": [
    "El archivo Sylence channelA_2025-03-26_21-06-31 necesito partirlo en bloques de 300,1920 segundos.\n",
    "\n",
    "Quedando:\n",
    "- Corte 1: Inicio del archivo 2025-03-26 21:07:30.568 \n",
    "- Corte 2: Inicio del archivo 2025-03-26 21:12:30.760\n",
    "- Corte 3: Inicio del archivo 2025-03-26 21:17:30.952"
   ]
  },
  {
   "cell_type": "code",
   "execution_count": 12,
   "id": "06b91f16",
   "metadata": {},
   "outputs": [],
   "source": [
    "# Load the audio file\n",
    "import librosa\n",
    "import numpy as np\n",
    "import soundfile as sf\n",
    "from datetime import datetime, timedelta"
   ]
  },
  {
   "cell_type": "code",
   "execution_count": 13,
   "id": "c295f44a",
   "metadata": {},
   "outputs": [],
   "source": [
    "# Load the audio file\n",
    "audio_path = 'channelA_2025-03-26_21-06-31.wav'\n",
    "y, sr = librosa.load(audio_path, sr=None)"
   ]
  },
  {
   "cell_type": "code",
   "execution_count": 14,
   "id": "9bb5a13a",
   "metadata": {},
   "outputs": [
    {
     "data": {
      "text/plain": [
       "datetime.datetime(2025, 3, 26, 21, 6, 31)"
      ]
     },
     "execution_count": 14,
     "metadata": {},
     "output_type": "execute_result"
    }
   ],
   "source": [
    "original_file_datetime = audio_path.split('_')[1] + '_' + audio_path.split('_')[2].split('.')[0]\n",
    "# convert to datetime object\n",
    "original_file_datetime = datetime.strptime(original_file_datetime, '%Y-%m-%d_%H-%M-%S')\n",
    "original_file_datetime"
   ]
  },
  {
   "cell_type": "code",
   "execution_count": 15,
   "id": "ff6bf1a1",
   "metadata": {},
   "outputs": [
    {
     "name": "stdout",
     "output_type": "stream",
     "text": [
      "Start times for each cut (in seconds):\n",
      "Cut 1: 59.57 seconds\n",
      "Cut 2: 359.76 seconds\n",
      "Cut 3: 659.95 seconds\n",
      "End times for each cut (in seconds):\n",
      "Cut 1: 359.76 seconds\n",
      "Cut 2: 659.95 seconds\n",
      "Cut 3: 960.14 seconds\n",
      "Cut audio file 1 saved as channelASeg_2025-03-26_21-07-30.wav\n",
      "Duration of cut audio file 1: 300192.00 milliseconds\n",
      "Cut audio file 2 saved as channelASeg_2025-03-26_21-12-30.wav\n",
      "Duration of cut audio file 2: 300192.00 milliseconds\n",
      "Cut audio file 3 saved as channelASeg_2025-03-26_21-17-30.wav\n",
      "Duration of cut audio file 3: 300192.00 milliseconds\n"
     ]
    }
   ],
   "source": [
    "# audio has to be cut in blocks of 300.1920 seconds. Being 3 cuts, related to file name, starting time would be 2025-03-26 21:07:30.568, second file would start 2025-03-26 21:12:30.760 and third one 2025-03-26 21:17:30.952\n",
    "\n",
    "# calculate start time if the first cut starts at 2025-03-26 21:07:30.568 \n",
    "starting_time = \"2025-03-26 21:07:30.568\"\n",
    "# convert to datetime object\n",
    "starting_time = datetime.strptime(starting_time, '%Y-%m-%d %H:%M:%S.%f')\n",
    "# calculate the time difference between the original file datetime and the starting time\n",
    "time_difference = starting_time - original_file_datetime\n",
    "time_difference_in_seconds = time_difference.total_seconds()\n",
    "# Calculate the start times for each cut\n",
    "start_times = []\n",
    "for i in range(3):\n",
    "    start_time = time_difference_in_seconds + (i * 300.1920)\n",
    "    start_times.append(start_time)\n",
    "# Print the start times\n",
    "print(\"Start times for each cut (in seconds):\")\n",
    "for i, start_time in enumerate(start_times):\n",
    "    print(f\"Cut {i + 1}: {start_time:.2f} seconds\")\n",
    "\n",
    "# Calculate the end times for each cut\n",
    "end_times = []\n",
    "for i in range(3):\n",
    "    end_time = start_times[i] + 300.1920\n",
    "    end_times.append(end_time)\n",
    "# Print the end times\n",
    "print(\"End times for each cut (in seconds):\")\n",
    "for i, end_time in enumerate(end_times):\n",
    "    print(f\"Cut {i + 1}: {end_time:.2f} seconds\")\n",
    "# Create a list to store the cut audio files\n",
    "cut_audio_files = []\n",
    "# Loop through the start and end times to cut the audio\n",
    "for i in range(3):\n",
    "    start_sample = int(start_times[i] * sr)\n",
    "    end_sample = int(end_times[i] * sr)\n",
    "    cut_audio = y[start_sample:end_sample]\n",
    "    cut_audio_files.append(cut_audio)\n",
    "    # Save the cut audio file\n",
    "    new_start_time = original_file_datetime + timedelta(seconds=start_times[i])\n",
    "    new_start_time_str = new_start_time.strftime('%Y-%m-%d_%H-%M-%S')\n",
    "    cut_audio_path = f'channelASeg_{new_start_time_str}.wav'\n",
    "    sf.write(cut_audio_path, cut_audio, sr)\n",
    "    print(f\"Cut audio file {i + 1} saved as {cut_audio_path}\")\n",
    "    # print audio duration in miliseconds\n",
    "    duration = librosa.get_duration(y=cut_audio, sr=sr)\n",
    "    duration_milliseconds = duration * 1000\n",
    "    print(f\"Duration of cut audio file {i + 1}: {duration_milliseconds:.2f} milliseconds\")"
   ]
  }
 ],
 "metadata": {
  "kernelspec": {
   "display_name": "DataAnalysis",
   "language": "python",
   "name": "python3"
  },
  "language_info": {
   "codemirror_mode": {
    "name": "ipython",
    "version": 3
   },
   "file_extension": ".py",
   "mimetype": "text/x-python",
   "name": "python",
   "nbconvert_exporter": "python",
   "pygments_lexer": "ipython3",
   "version": "3.12.2"
  }
 },
 "nbformat": 4,
 "nbformat_minor": 5
}
