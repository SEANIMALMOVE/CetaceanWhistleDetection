{
 "cells": [
  {
   "cell_type": "code",
   "execution_count": 1,
   "metadata": {},
   "outputs": [],
   "source": [
    "import numpy as np\n",
    "import matplotlib.pyplot as plt\n",
    "import matplotlib.patches as patches\n",
    "import matplotlib.colors as mcolors"
   ]
  },
  {
   "cell_type": "code",
   "execution_count": null,
   "metadata": {},
   "outputs": [
    {
     "name": "stdout",
     "output_type": "stream",
     "text": [
      "3 minutes 18 seconds\n"
     ]
    }
   ],
   "source": [
    "# second = 198\n",
    "# print(f\"{second//60} minutes {second%60} seconds\")\n",
    "# minutes = 16\n",
    "# seconds = 00\n",
    "# print(f\"{minutes*60+seconds} seconds\")"
   ]
  },
  {
   "cell_type": "code",
   "execution_count": 2,
   "metadata": {},
   "outputs": [
    {
     "name": "stdout",
     "output_type": "stream",
     "text": [
      "Fondeo2_Model31\t\t      NOWOPAMDAY_Downsampled_Model23\n",
      "NOWOPAMDAY_310102_06_Model31  WOPAMDAY_Model22\n"
     ]
    }
   ],
   "source": [
    "!ls ../../../../../mnt/e/Deep\\ Learning\\ Analysis/Predictions/"
   ]
  },
  {
   "cell_type": "code",
   "execution_count": 4,
   "metadata": {},
   "outputs": [],
   "source": [
    "PREDICTIONS = \"Fondeo2_Model31\""
   ]
  },
  {
   "cell_type": "code",
   "execution_count": 5,
   "metadata": {},
   "outputs": [
    {
     "data": {
      "application/vnd.microsoft.datawrangler.viewer.v0+json": {
       "columns": [
        {
         "name": "index",
         "rawType": "int64",
         "type": "integer"
        },
        {
         "name": "Path",
         "rawType": "object",
         "type": "string"
        },
        {
         "name": "Filename",
         "rawType": "object",
         "type": "string"
        },
        {
         "name": "StartSecond",
         "rawType": "int64",
         "type": "integer"
        },
        {
         "name": "EndSecond",
         "rawType": "int64",
         "type": "integer"
        },
        {
         "name": "MainClassification",
         "rawType": "object",
         "type": "string"
        },
        {
         "name": "ConfidenceScore",
         "rawType": "float64",
         "type": "float"
        },
        {
         "name": "ConfidenceVector",
         "rawType": "object",
         "type": "string"
        }
       ],
       "conversionMethod": "pd.DataFrame",
       "ref": "016185af-98fe-4302-8b26-2cf53ee4f93e",
       "rows": [
        [
         "0",
         "D:/Downsampled AQUI TAMBIÉN/Tarifa 2 SYLENCE/BUENOS/channelA_2024-05-27_15-53-43_48kHz.wav",
         "channelA_2024-05-27_15-53-43_48kHz.wav",
         "0",
         "3",
         "Background",
         "0.99405587",
         "[0.9940558671951294, 0.00594412861391902]"
        ],
        [
         "1",
         "D:/Downsampled AQUI TAMBIÉN/Tarifa 2 SYLENCE/BUENOS/channelA_2024-05-27_15-53-43_48kHz.wav",
         "channelA_2024-05-27_15-53-43_48kHz.wav",
         "3",
         "6",
         "Background",
         "0.99334234",
         "[0.9933423399925232, 0.006657704245299101]"
        ],
        [
         "2",
         "D:/Downsampled AQUI TAMBIÉN/Tarifa 2 SYLENCE/BUENOS/channelA_2024-05-27_15-53-43_48kHz.wav",
         "channelA_2024-05-27_15-53-43_48kHz.wav",
         "6",
         "9",
         "Background",
         "0.9906282",
         "[0.990628182888031, 0.009371769614517689]"
        ],
        [
         "3",
         "D:/Downsampled AQUI TAMBIÉN/Tarifa 2 SYLENCE/BUENOS/channelA_2024-05-27_15-53-43_48kHz.wav",
         "channelA_2024-05-27_15-53-43_48kHz.wav",
         "9",
         "12",
         "Background",
         "0.98762345",
         "[0.9876234531402588, 0.012376519851386547]"
        ],
        [
         "4",
         "D:/Downsampled AQUI TAMBIÉN/Tarifa 2 SYLENCE/BUENOS/channelA_2024-05-27_15-53-43_48kHz.wav",
         "channelA_2024-05-27_15-53-43_48kHz.wav",
         "12",
         "15",
         "Background",
         "0.9927798",
         "[0.9927797913551331, 0.00722017465159297]"
        ],
        [
         "5",
         "D:/Downsampled AQUI TAMBIÉN/Tarifa 2 SYLENCE/BUENOS/channelA_2024-05-27_15-53-43_48kHz.wav",
         "channelA_2024-05-27_15-53-43_48kHz.wav",
         "15",
         "18",
         "Background",
         "0.9932013",
         "[0.9932013154029846, 0.006798677146434784]"
        ],
        [
         "6",
         "D:/Downsampled AQUI TAMBIÉN/Tarifa 2 SYLENCE/BUENOS/channelA_2024-05-27_15-53-43_48kHz.wav",
         "channelA_2024-05-27_15-53-43_48kHz.wav",
         "18",
         "21",
         "Background",
         "0.99205375",
         "[0.992053747177124, 0.007946260273456573]"
        ],
        [
         "7",
         "D:/Downsampled AQUI TAMBIÉN/Tarifa 2 SYLENCE/BUENOS/channelA_2024-05-27_15-53-43_48kHz.wav",
         "channelA_2024-05-27_15-53-43_48kHz.wav",
         "21",
         "24",
         "Background",
         "0.991764",
         "[0.9917640089988708, 0.008235925808548927]"
        ],
        [
         "8",
         "D:/Downsampled AQUI TAMBIÉN/Tarifa 2 SYLENCE/BUENOS/channelA_2024-05-27_15-53-43_48kHz.wav",
         "channelA_2024-05-27_15-53-43_48kHz.wav",
         "24",
         "27",
         "Background",
         "0.9718579",
         "[0.9718579053878784, 0.028142141178250313]"
        ],
        [
         "9",
         "D:/Downsampled AQUI TAMBIÉN/Tarifa 2 SYLENCE/BUENOS/channelA_2024-05-27_15-53-43_48kHz.wav",
         "channelA_2024-05-27_15-53-43_48kHz.wav",
         "27",
         "30",
         "Background",
         "0.98835236",
         "[0.988352358341217, 0.011647614650428295]"
        ],
        [
         "10",
         "D:/Downsampled AQUI TAMBIÉN/Tarifa 2 SYLENCE/BUENOS/channelA_2024-05-27_15-53-43_48kHz.wav",
         "channelA_2024-05-27_15-53-43_48kHz.wav",
         "30",
         "33",
         "Background",
         "0.98163235",
         "[0.9816323518753052, 0.018367642536759377]"
        ],
        [
         "11",
         "D:/Downsampled AQUI TAMBIÉN/Tarifa 2 SYLENCE/BUENOS/channelA_2024-05-27_15-53-43_48kHz.wav",
         "channelA_2024-05-27_15-53-43_48kHz.wav",
         "33",
         "36",
         "Background",
         "0.9587321",
         "[0.9587321281433105, 0.041267916560173035]"
        ],
        [
         "12",
         "D:/Downsampled AQUI TAMBIÉN/Tarifa 2 SYLENCE/BUENOS/channelA_2024-05-27_15-53-43_48kHz.wav",
         "channelA_2024-05-27_15-53-43_48kHz.wav",
         "36",
         "39",
         "Background",
         "0.973017",
         "[0.9730169773101807, 0.026983020827174187]"
        ],
        [
         "13",
         "D:/Downsampled AQUI TAMBIÉN/Tarifa 2 SYLENCE/BUENOS/channelA_2024-05-27_15-53-43_48kHz.wav",
         "channelA_2024-05-27_15-53-43_48kHz.wav",
         "39",
         "42",
         "Background",
         "0.977088",
         "[0.9770879745483398, 0.022912025451660156]"
        ],
        [
         "14",
         "D:/Downsampled AQUI TAMBIÉN/Tarifa 2 SYLENCE/BUENOS/channelA_2024-05-27_15-53-43_48kHz.wav",
         "channelA_2024-05-27_15-53-43_48kHz.wav",
         "42",
         "45",
         "Background",
         "0.9730909",
         "[0.9730908870697021, 0.026909079402685165]"
        ],
        [
         "15",
         "D:/Downsampled AQUI TAMBIÉN/Tarifa 2 SYLENCE/BUENOS/channelA_2024-05-27_15-53-43_48kHz.wav",
         "channelA_2024-05-27_15-53-43_48kHz.wav",
         "45",
         "48",
         "Background",
         "0.95215476",
         "[0.9521547555923462, 0.04784529283642769]"
        ],
        [
         "16",
         "D:/Downsampled AQUI TAMBIÉN/Tarifa 2 SYLENCE/BUENOS/channelA_2024-05-27_15-53-43_48kHz.wav",
         "channelA_2024-05-27_15-53-43_48kHz.wav",
         "48",
         "51",
         "Background",
         "0.97878814",
         "[0.9787881374359131, 0.02121182158589363]"
        ],
        [
         "17",
         "D:/Downsampled AQUI TAMBIÉN/Tarifa 2 SYLENCE/BUENOS/channelA_2024-05-27_15-53-43_48kHz.wav",
         "channelA_2024-05-27_15-53-43_48kHz.wav",
         "51",
         "54",
         "Background",
         "0.99276525",
         "[0.9927652478218079, 0.007234722375869751]"
        ],
        [
         "18",
         "D:/Downsampled AQUI TAMBIÉN/Tarifa 2 SYLENCE/BUENOS/channelA_2024-05-27_15-53-43_48kHz.wav",
         "channelA_2024-05-27_15-53-43_48kHz.wav",
         "54",
         "57",
         "Background",
         "0.97362876",
         "[0.9736287593841553, 0.02637128159403801]"
        ],
        [
         "19",
         "D:/Downsampled AQUI TAMBIÉN/Tarifa 2 SYLENCE/BUENOS/channelA_2024-05-27_15-53-43_48kHz.wav",
         "channelA_2024-05-27_15-53-43_48kHz.wav",
         "57",
         "60",
         "Background",
         "0.965208",
         "[0.9652079939842224, 0.0347919836640358]"
        ],
        [
         "20",
         "D:/Downsampled AQUI TAMBIÉN/Tarifa 2 SYLENCE/BUENOS/channelA_2024-05-27_15-53-43_48kHz.wav",
         "channelA_2024-05-27_15-53-43_48kHz.wav",
         "60",
         "63",
         "Background",
         "0.97225475",
         "[0.972254753112793, 0.02774529717862606]"
        ],
        [
         "21",
         "D:/Downsampled AQUI TAMBIÉN/Tarifa 2 SYLENCE/BUENOS/channelA_2024-05-27_15-53-43_48kHz.wav",
         "channelA_2024-05-27_15-53-43_48kHz.wav",
         "63",
         "66",
         "Background",
         "0.9739938",
         "[0.9739937782287598, 0.026006264612078667]"
        ],
        [
         "22",
         "D:/Downsampled AQUI TAMBIÉN/Tarifa 2 SYLENCE/BUENOS/channelA_2024-05-27_15-53-43_48kHz.wav",
         "channelA_2024-05-27_15-53-43_48kHz.wav",
         "66",
         "69",
         "Background",
         "0.96605796",
         "[0.9660579562187195, 0.03394199162721634]"
        ],
        [
         "23",
         "D:/Downsampled AQUI TAMBIÉN/Tarifa 2 SYLENCE/BUENOS/channelA_2024-05-27_15-53-43_48kHz.wav",
         "channelA_2024-05-27_15-53-43_48kHz.wav",
         "69",
         "72",
         "Background",
         "0.95406455",
         "[0.9540645480155945, 0.04593537375330925]"
        ],
        [
         "24",
         "D:/Downsampled AQUI TAMBIÉN/Tarifa 2 SYLENCE/BUENOS/channelA_2024-05-27_15-53-43_48kHz.wav",
         "channelA_2024-05-27_15-53-43_48kHz.wav",
         "72",
         "75",
         "Background",
         "0.97821015",
         "[0.9782101511955261, 0.02178983949124813]"
        ],
        [
         "25",
         "D:/Downsampled AQUI TAMBIÉN/Tarifa 2 SYLENCE/BUENOS/channelA_2024-05-27_15-53-43_48kHz.wav",
         "channelA_2024-05-27_15-53-43_48kHz.wav",
         "75",
         "78",
         "Background",
         "0.9846635",
         "[0.9846634864807129, 0.015336541458964348]"
        ],
        [
         "26",
         "D:/Downsampled AQUI TAMBIÉN/Tarifa 2 SYLENCE/BUENOS/channelA_2024-05-27_15-53-43_48kHz.wav",
         "channelA_2024-05-27_15-53-43_48kHz.wav",
         "78",
         "81",
         "Background",
         "0.9819978",
         "[0.9819977879524231, 0.018002167344093323]"
        ],
        [
         "27",
         "D:/Downsampled AQUI TAMBIÉN/Tarifa 2 SYLENCE/BUENOS/channelA_2024-05-27_15-53-43_48kHz.wav",
         "channelA_2024-05-27_15-53-43_48kHz.wav",
         "81",
         "84",
         "Background",
         "0.9770858",
         "[0.9770858287811279, 0.02291414886713028]"
        ],
        [
         "28",
         "D:/Downsampled AQUI TAMBIÉN/Tarifa 2 SYLENCE/BUENOS/channelA_2024-05-27_15-53-43_48kHz.wav",
         "channelA_2024-05-27_15-53-43_48kHz.wav",
         "84",
         "87",
         "Background",
         "0.9749527",
         "[0.9749526977539062, 0.025047367438673973]"
        ],
        [
         "29",
         "D:/Downsampled AQUI TAMBIÉN/Tarifa 2 SYLENCE/BUENOS/channelA_2024-05-27_15-53-43_48kHz.wav",
         "channelA_2024-05-27_15-53-43_48kHz.wav",
         "87",
         "90",
         "Background",
         "0.991024",
         "[0.9910240173339844, 0.008976016193628311]"
        ],
        [
         "30",
         "D:/Downsampled AQUI TAMBIÉN/Tarifa 2 SYLENCE/BUENOS/channelA_2024-05-27_15-53-43_48kHz.wav",
         "channelA_2024-05-27_15-53-43_48kHz.wav",
         "90",
         "93",
         "Background",
         "0.9896813",
         "[0.9896813035011292, 0.010318726301193237]"
        ],
        [
         "31",
         "D:/Downsampled AQUI TAMBIÉN/Tarifa 2 SYLENCE/BUENOS/channelA_2024-05-27_15-53-43_48kHz.wav",
         "channelA_2024-05-27_15-53-43_48kHz.wav",
         "93",
         "96",
         "Background",
         "0.99174166",
         "[0.9917416572570801, 0.008258344605565071]"
        ],
        [
         "32",
         "D:/Downsampled AQUI TAMBIÉN/Tarifa 2 SYLENCE/BUENOS/channelA_2024-05-27_15-53-43_48kHz.wav",
         "channelA_2024-05-27_15-53-43_48kHz.wav",
         "96",
         "99",
         "Background",
         "0.9925513",
         "[0.992551326751709, 0.007448718883097172]"
        ],
        [
         "33",
         "D:/Downsampled AQUI TAMBIÉN/Tarifa 2 SYLENCE/BUENOS/channelA_2024-05-27_15-53-43_48kHz.wav",
         "channelA_2024-05-27_15-53-43_48kHz.wav",
         "99",
         "102",
         "Background",
         "0.98770684",
         "[0.9877068400382996, 0.012293217703700066]"
        ],
        [
         "34",
         "D:/Downsampled AQUI TAMBIÉN/Tarifa 2 SYLENCE/BUENOS/channelA_2024-05-27_15-53-43_48kHz.wav",
         "channelA_2024-05-27_15-53-43_48kHz.wav",
         "102",
         "105",
         "Background",
         "0.9777324",
         "[0.9777324199676514, 0.022267555817961693]"
        ],
        [
         "35",
         "D:/Downsampled AQUI TAMBIÉN/Tarifa 2 SYLENCE/BUENOS/channelA_2024-05-27_15-53-43_48kHz.wav",
         "channelA_2024-05-27_15-53-43_48kHz.wav",
         "105",
         "108",
         "Background",
         "0.99290836",
         "[0.9929083585739136, 0.007091655861586332]"
        ],
        [
         "36",
         "D:/Downsampled AQUI TAMBIÉN/Tarifa 2 SYLENCE/BUENOS/channelA_2024-05-27_15-53-43_48kHz.wav",
         "channelA_2024-05-27_15-53-43_48kHz.wav",
         "108",
         "111",
         "Background",
         "0.9862764",
         "[0.986276388168335, 0.013723577372729778]"
        ],
        [
         "37",
         "D:/Downsampled AQUI TAMBIÉN/Tarifa 2 SYLENCE/BUENOS/channelA_2024-05-27_15-53-43_48kHz.wav",
         "channelA_2024-05-27_15-53-43_48kHz.wav",
         "111",
         "114",
         "Background",
         "0.9868932",
         "[0.9868931770324707, 0.013106804341077805]"
        ],
        [
         "38",
         "D:/Downsampled AQUI TAMBIÉN/Tarifa 2 SYLENCE/BUENOS/channelA_2024-05-27_15-53-43_48kHz.wav",
         "channelA_2024-05-27_15-53-43_48kHz.wav",
         "114",
         "117",
         "Background",
         "0.98783225",
         "[0.987832248210907, 0.012167827226221561]"
        ],
        [
         "39",
         "D:/Downsampled AQUI TAMBIÉN/Tarifa 2 SYLENCE/BUENOS/channelA_2024-05-27_15-53-43_48kHz.wav",
         "channelA_2024-05-27_15-53-43_48kHz.wav",
         "117",
         "120",
         "Background",
         "0.9671746",
         "[0.9671745896339417, 0.032825369387865067]"
        ],
        [
         "40",
         "D:/Downsampled AQUI TAMBIÉN/Tarifa 2 SYLENCE/BUENOS/channelA_2024-05-27_15-53-43_48kHz.wav",
         "channelA_2024-05-27_15-53-43_48kHz.wav",
         "120",
         "123",
         "Background",
         "0.99330574",
         "[0.9933057427406311, 0.006694238632917404]"
        ],
        [
         "41",
         "D:/Downsampled AQUI TAMBIÉN/Tarifa 2 SYLENCE/BUENOS/channelA_2024-05-27_15-53-43_48kHz.wav",
         "channelA_2024-05-27_15-53-43_48kHz.wav",
         "123",
         "126",
         "Background",
         "0.9838695",
         "[0.9838694930076599, 0.016130555421113968]"
        ],
        [
         "42",
         "D:/Downsampled AQUI TAMBIÉN/Tarifa 2 SYLENCE/BUENOS/channelA_2024-05-27_15-53-43_48kHz.wav",
         "channelA_2024-05-27_15-53-43_48kHz.wav",
         "126",
         "129",
         "Background",
         "0.9874042",
         "[0.9874042272567749, 0.012595832347869873]"
        ],
        [
         "43",
         "D:/Downsampled AQUI TAMBIÉN/Tarifa 2 SYLENCE/BUENOS/channelA_2024-05-27_15-53-43_48kHz.wav",
         "channelA_2024-05-27_15-53-43_48kHz.wav",
         "129",
         "132",
         "Background",
         "0.99280715",
         "[0.992807149887085, 0.007192779798060656]"
        ],
        [
         "44",
         "D:/Downsampled AQUI TAMBIÉN/Tarifa 2 SYLENCE/BUENOS/channelA_2024-05-27_15-53-43_48kHz.wav",
         "channelA_2024-05-27_15-53-43_48kHz.wav",
         "132",
         "135",
         "Background",
         "0.9896773",
         "[0.9896773099899292, 0.010322666727006435]"
        ],
        [
         "45",
         "D:/Downsampled AQUI TAMBIÉN/Tarifa 2 SYLENCE/BUENOS/channelA_2024-05-27_15-53-43_48kHz.wav",
         "channelA_2024-05-27_15-53-43_48kHz.wav",
         "135",
         "138",
         "Background",
         "0.98970336",
         "[0.989703357219696, 0.010296627879142761]"
        ],
        [
         "46",
         "D:/Downsampled AQUI TAMBIÉN/Tarifa 2 SYLENCE/BUENOS/channelA_2024-05-27_15-53-43_48kHz.wav",
         "channelA_2024-05-27_15-53-43_48kHz.wav",
         "138",
         "141",
         "Background",
         "0.98066175",
         "[0.9806617498397827, 0.019338257610797882]"
        ],
        [
         "47",
         "D:/Downsampled AQUI TAMBIÉN/Tarifa 2 SYLENCE/BUENOS/channelA_2024-05-27_15-53-43_48kHz.wav",
         "channelA_2024-05-27_15-53-43_48kHz.wav",
         "141",
         "144",
         "Background",
         "0.9840551",
         "[0.9840551018714905, 0.015944937244057655]"
        ],
        [
         "48",
         "D:/Downsampled AQUI TAMBIÉN/Tarifa 2 SYLENCE/BUENOS/channelA_2024-05-27_15-53-43_48kHz.wav",
         "channelA_2024-05-27_15-53-43_48kHz.wav",
         "144",
         "147",
         "Background",
         "0.98718566",
         "[0.9871856570243835, 0.012814359739422798]"
        ],
        [
         "49",
         "D:/Downsampled AQUI TAMBIÉN/Tarifa 2 SYLENCE/BUENOS/channelA_2024-05-27_15-53-43_48kHz.wav",
         "channelA_2024-05-27_15-53-43_48kHz.wav",
         "147",
         "150",
         "Background",
         "0.9815668",
         "[0.9815667867660522, 0.018433280289173126]"
        ]
       ],
       "shape": {
        "columns": 7,
        "rows": 479389
       }
      },
      "text/html": [
       "<div>\n",
       "<style scoped>\n",
       "    .dataframe tbody tr th:only-of-type {\n",
       "        vertical-align: middle;\n",
       "    }\n",
       "\n",
       "    .dataframe tbody tr th {\n",
       "        vertical-align: top;\n",
       "    }\n",
       "\n",
       "    .dataframe thead th {\n",
       "        text-align: right;\n",
       "    }\n",
       "</style>\n",
       "<table border=\"1\" class=\"dataframe\">\n",
       "  <thead>\n",
       "    <tr style=\"text-align: right;\">\n",
       "      <th></th>\n",
       "      <th>Path</th>\n",
       "      <th>Filename</th>\n",
       "      <th>StartSecond</th>\n",
       "      <th>EndSecond</th>\n",
       "      <th>MainClassification</th>\n",
       "      <th>ConfidenceScore</th>\n",
       "      <th>ConfidenceVector</th>\n",
       "    </tr>\n",
       "  </thead>\n",
       "  <tbody>\n",
       "    <tr>\n",
       "      <th>0</th>\n",
       "      <td>D:/Downsampled AQUI TAMBIÉN/Tarifa 2 SYLENCE/B...</td>\n",
       "      <td>channelA_2024-05-27_15-53-43_48kHz.wav</td>\n",
       "      <td>0</td>\n",
       "      <td>3</td>\n",
       "      <td>Background</td>\n",
       "      <td>0.994056</td>\n",
       "      <td>[0.9940558671951294, 0.00594412861391902]</td>\n",
       "    </tr>\n",
       "    <tr>\n",
       "      <th>1</th>\n",
       "      <td>D:/Downsampled AQUI TAMBIÉN/Tarifa 2 SYLENCE/B...</td>\n",
       "      <td>channelA_2024-05-27_15-53-43_48kHz.wav</td>\n",
       "      <td>3</td>\n",
       "      <td>6</td>\n",
       "      <td>Background</td>\n",
       "      <td>0.993342</td>\n",
       "      <td>[0.9933423399925232, 0.006657704245299101]</td>\n",
       "    </tr>\n",
       "    <tr>\n",
       "      <th>2</th>\n",
       "      <td>D:/Downsampled AQUI TAMBIÉN/Tarifa 2 SYLENCE/B...</td>\n",
       "      <td>channelA_2024-05-27_15-53-43_48kHz.wav</td>\n",
       "      <td>6</td>\n",
       "      <td>9</td>\n",
       "      <td>Background</td>\n",
       "      <td>0.990628</td>\n",
       "      <td>[0.990628182888031, 0.009371769614517689]</td>\n",
       "    </tr>\n",
       "    <tr>\n",
       "      <th>3</th>\n",
       "      <td>D:/Downsampled AQUI TAMBIÉN/Tarifa 2 SYLENCE/B...</td>\n",
       "      <td>channelA_2024-05-27_15-53-43_48kHz.wav</td>\n",
       "      <td>9</td>\n",
       "      <td>12</td>\n",
       "      <td>Background</td>\n",
       "      <td>0.987623</td>\n",
       "      <td>[0.9876234531402588, 0.012376519851386547]</td>\n",
       "    </tr>\n",
       "    <tr>\n",
       "      <th>4</th>\n",
       "      <td>D:/Downsampled AQUI TAMBIÉN/Tarifa 2 SYLENCE/B...</td>\n",
       "      <td>channelA_2024-05-27_15-53-43_48kHz.wav</td>\n",
       "      <td>12</td>\n",
       "      <td>15</td>\n",
       "      <td>Background</td>\n",
       "      <td>0.992780</td>\n",
       "      <td>[0.9927797913551331, 0.00722017465159297]</td>\n",
       "    </tr>\n",
       "    <tr>\n",
       "      <th>...</th>\n",
       "      <td>...</td>\n",
       "      <td>...</td>\n",
       "      <td>...</td>\n",
       "      <td>...</td>\n",
       "      <td>...</td>\n",
       "      <td>...</td>\n",
       "      <td>...</td>\n",
       "    </tr>\n",
       "    <tr>\n",
       "      <th>479384</th>\n",
       "      <td>D:/Downsampled AQUI TAMBIÉN/Tarifa 2 SYLENCE/B...</td>\n",
       "      <td>channelA_2024-06-13_07-18-14_48kHz.wav</td>\n",
       "      <td>285</td>\n",
       "      <td>288</td>\n",
       "      <td>Background</td>\n",
       "      <td>0.982023</td>\n",
       "      <td>[0.9820234179496765, 0.017976542934775352]</td>\n",
       "    </tr>\n",
       "    <tr>\n",
       "      <th>479385</th>\n",
       "      <td>D:/Downsampled AQUI TAMBIÉN/Tarifa 2 SYLENCE/B...</td>\n",
       "      <td>channelA_2024-06-13_07-18-14_48kHz.wav</td>\n",
       "      <td>288</td>\n",
       "      <td>291</td>\n",
       "      <td>Background</td>\n",
       "      <td>0.866458</td>\n",
       "      <td>[0.8664583563804626, 0.13354168832302094]</td>\n",
       "    </tr>\n",
       "    <tr>\n",
       "      <th>479386</th>\n",
       "      <td>D:/Downsampled AQUI TAMBIÉN/Tarifa 2 SYLENCE/B...</td>\n",
       "      <td>channelA_2024-06-13_07-18-14_48kHz.wav</td>\n",
       "      <td>291</td>\n",
       "      <td>294</td>\n",
       "      <td>Background</td>\n",
       "      <td>0.955901</td>\n",
       "      <td>[0.9559006094932556, 0.04409940913319588]</td>\n",
       "    </tr>\n",
       "    <tr>\n",
       "      <th>479387</th>\n",
       "      <td>D:/Downsampled AQUI TAMBIÉN/Tarifa 2 SYLENCE/B...</td>\n",
       "      <td>channelA_2024-06-13_07-18-14_48kHz.wav</td>\n",
       "      <td>294</td>\n",
       "      <td>297</td>\n",
       "      <td>Background</td>\n",
       "      <td>0.951665</td>\n",
       "      <td>[0.9516652226448059, 0.048334795981645584]</td>\n",
       "    </tr>\n",
       "    <tr>\n",
       "      <th>479388</th>\n",
       "      <td>D:/Downsampled AQUI TAMBIÉN/Tarifa 2 SYLENCE/B...</td>\n",
       "      <td>channelA_2024-06-13_07-18-14_48kHz.wav</td>\n",
       "      <td>297</td>\n",
       "      <td>300</td>\n",
       "      <td>Background</td>\n",
       "      <td>0.958857</td>\n",
       "      <td>[0.9588574171066284, 0.041142579168081284]</td>\n",
       "    </tr>\n",
       "  </tbody>\n",
       "</table>\n",
       "<p>479389 rows × 7 columns</p>\n",
       "</div>"
      ],
      "text/plain": [
       "                                                     Path  \\\n",
       "0       D:/Downsampled AQUI TAMBIÉN/Tarifa 2 SYLENCE/B...   \n",
       "1       D:/Downsampled AQUI TAMBIÉN/Tarifa 2 SYLENCE/B...   \n",
       "2       D:/Downsampled AQUI TAMBIÉN/Tarifa 2 SYLENCE/B...   \n",
       "3       D:/Downsampled AQUI TAMBIÉN/Tarifa 2 SYLENCE/B...   \n",
       "4       D:/Downsampled AQUI TAMBIÉN/Tarifa 2 SYLENCE/B...   \n",
       "...                                                   ...   \n",
       "479384  D:/Downsampled AQUI TAMBIÉN/Tarifa 2 SYLENCE/B...   \n",
       "479385  D:/Downsampled AQUI TAMBIÉN/Tarifa 2 SYLENCE/B...   \n",
       "479386  D:/Downsampled AQUI TAMBIÉN/Tarifa 2 SYLENCE/B...   \n",
       "479387  D:/Downsampled AQUI TAMBIÉN/Tarifa 2 SYLENCE/B...   \n",
       "479388  D:/Downsampled AQUI TAMBIÉN/Tarifa 2 SYLENCE/B...   \n",
       "\n",
       "                                      Filename  StartSecond  EndSecond  \\\n",
       "0       channelA_2024-05-27_15-53-43_48kHz.wav            0          3   \n",
       "1       channelA_2024-05-27_15-53-43_48kHz.wav            3          6   \n",
       "2       channelA_2024-05-27_15-53-43_48kHz.wav            6          9   \n",
       "3       channelA_2024-05-27_15-53-43_48kHz.wav            9         12   \n",
       "4       channelA_2024-05-27_15-53-43_48kHz.wav           12         15   \n",
       "...                                        ...          ...        ...   \n",
       "479384  channelA_2024-06-13_07-18-14_48kHz.wav          285        288   \n",
       "479385  channelA_2024-06-13_07-18-14_48kHz.wav          288        291   \n",
       "479386  channelA_2024-06-13_07-18-14_48kHz.wav          291        294   \n",
       "479387  channelA_2024-06-13_07-18-14_48kHz.wav          294        297   \n",
       "479388  channelA_2024-06-13_07-18-14_48kHz.wav          297        300   \n",
       "\n",
       "       MainClassification  ConfidenceScore  \\\n",
       "0              Background         0.994056   \n",
       "1              Background         0.993342   \n",
       "2              Background         0.990628   \n",
       "3              Background         0.987623   \n",
       "4              Background         0.992780   \n",
       "...                   ...              ...   \n",
       "479384         Background         0.982023   \n",
       "479385         Background         0.866458   \n",
       "479386         Background         0.955901   \n",
       "479387         Background         0.951665   \n",
       "479388         Background         0.958857   \n",
       "\n",
       "                                  ConfidenceVector  \n",
       "0        [0.9940558671951294, 0.00594412861391902]  \n",
       "1       [0.9933423399925232, 0.006657704245299101]  \n",
       "2        [0.990628182888031, 0.009371769614517689]  \n",
       "3       [0.9876234531402588, 0.012376519851386547]  \n",
       "4        [0.9927797913551331, 0.00722017465159297]  \n",
       "...                                            ...  \n",
       "479384  [0.9820234179496765, 0.017976542934775352]  \n",
       "479385   [0.8664583563804626, 0.13354168832302094]  \n",
       "479386   [0.9559006094932556, 0.04409940913319588]  \n",
       "479387  [0.9516652226448059, 0.048334795981645584]  \n",
       "479388  [0.9588574171066284, 0.041142579168081284]  \n",
       "\n",
       "[479389 rows x 7 columns]"
      ]
     },
     "execution_count": 5,
     "metadata": {},
     "output_type": "execute_result"
    }
   ],
   "source": [
    "import pandas as pd\n",
    "\n",
    "# Load CSV predictions.csv\n",
    "df = pd.read_csv(f'../../../../../mnt/e/Deep Learning Analysis/Predictions/{PREDICTIONS}/predictions.csv')\n",
    "df"
   ]
  },
  {
   "cell_type": "code",
   "execution_count": 6,
   "metadata": {},
   "outputs": [],
   "source": [
    "CLASSES_MAPPING = {\n",
    "    'Background': 0,\n",
    "    'BottlenoseDolphin': 1,\n",
    "    'CommonDolphin': 2,\n",
    "    \"Grampus_Risso'sDolphin\": 3,\n",
    "    'HarborPorpoise': 4,\n",
    "    'KillerWhale': 5,\n",
    "    'Long_FinnedPilotWhale': 6,\n",
    "    'StripedDolphin': 7\n",
    "}\n",
    "\n",
    "## Define class mapping\n",
    "CLASSES_MAPPING = {\n",
    "    'Background': 0,\n",
    "    'Whistle': 1,\n",
    "}\n",
    "\n"
   ]
  },
  {
   "cell_type": "code",
   "execution_count": 7,
   "metadata": {},
   "outputs": [
    {
     "data": {
      "image/png": "[encoded data removed]",
      "text/plain": [
       "<Figure size 1200x600 with 1 Axes>"
      ]
     },
     "metadata": {},
     "output_type": "display_data"
    }
   ],
   "source": [
    "import matplotlib.pyplot as plt\n",
    "import seaborn as sns\n",
    "\n",
    "# Plot the distribution of main classifications\n",
    "plt.figure(figsize=(12, 6))\n",
    "sns.countplot(data=df, x='MainClassification', order=df['MainClassification'].value_counts().index)\n",
    "plt.title('Distribution of Main Classifications')\n",
    "plt.xticks(rotation=45)\n",
    "plt.show()"
   ]
  },
  {
   "cell_type": "code",
   "execution_count": 9,
   "metadata": {},
   "outputs": [
    {
     "data": {
      "image/png": "[encoded data removed]",
      "text/plain": [
       "<Figure size 1200x600 with 1 Axes>"
      ]
     },
     "metadata": {},
     "output_type": "display_data"
    },
    {
     "name": "stdout",
     "output_type": "stream",
     "text": [
      "MainClassification\n",
      "Background    99.967667\n",
      "Whistle        0.032333\n",
      "Name: proportion, dtype: float64\n"
     ]
    }
   ],
   "source": [
    "# Calculate the percentage of each classification\n",
    "classification_counts = df['MainClassification'].value_counts(normalize=True) * 100\n",
    "\n",
    "# Plot the percentage of each classification\n",
    "plt.figure(figsize=(12, 6))\n",
    "classification_counts.plot(kind='bar')\n",
    "plt.title('Percentage of Each Classification')\n",
    "plt.ylabel('Percentage')\n",
    "plt.xticks(rotation=45)\n",
    "plt.show()\n",
    "\n",
    "print(classification_counts)"
   ]
  },
  {
   "cell_type": "code",
   "execution_count": 10,
   "metadata": {},
   "outputs": [
    {
     "data": {
      "image/png": "[encoded data removed]",
      "text/plain": [
       "<Figure size 1200x600 with 1 Axes>"
      ]
     },
     "metadata": {},
     "output_type": "display_data"
    }
   ],
   "source": [
    "# Plot the distribution of confidence scores\n",
    "plt.figure(figsize=(12, 6))\n",
    "sns.histplot(data=df, x='ConfidenceScore', bins=50, kde=True)\n",
    "plt.title('Distribution of Confidence Scores')\n",
    "plt.show()"
   ]
  },
  {
   "cell_type": "code",
   "execution_count": 11,
   "metadata": {},
   "outputs": [
    {
     "data": {
      "image/png": "[encoded data removed]",
      "text/plain": [
       "<Figure size 1200x600 with 1 Axes>"
      ]
     },
     "metadata": {},
     "output_type": "display_data"
    }
   ],
   "source": [
    "# Plot the confidence scores by main classification\n",
    "plt.figure(figsize=(12, 6))\n",
    "sns.boxplot(data=df, x='MainClassification', y='ConfidenceScore', order=df['MainClassification'].value_counts().index)\n",
    "plt.title('Confidence Scores by Main Classification')\n",
    "plt.xticks(rotation=45)\n",
    "plt.show()"
   ]
  },
  {
   "cell_type": "code",
   "execution_count": 12,
   "metadata": {},
   "outputs": [
    {
     "name": "stdout",
     "output_type": "stream",
     "text": [
      "1716\n"
     ]
    },
    {
     "data": {
      "image/png": "[encoded data removed]",
      "text/plain": [
       "<Figure size 1200x600 with 1 Axes>"
      ]
     },
     "metadata": {},
     "output_type": "display_data"
    }
   ],
   "source": [
    "# Check how many Main Background have lower confidence score of 0.6\n",
    "low_confidence = df[(df['MainClassification'] == 'Background') & (df['ConfidenceScore'] < 0.8)]\n",
    "\n",
    "print(len(low_confidence))\n",
    "\n",
    "# Plot the distribution of confidence scores\n",
    "plt.figure(figsize=(12, 6))\n",
    "sns.histplot(data=low_confidence, x='ConfidenceScore', bins=50, kde=True)\n",
    "plt.title('Distribution of Confidence Scores')\n",
    "plt.show()"
   ]
  },
  {
   "cell_type": "code",
   "execution_count": 13,
   "metadata": {},
   "outputs": [],
   "source": [
    "# # Calculate the abundance of each classification per file\n",
    "# abundance_per_file = df.groupby(['Filename', 'MainClassification']).size().unstack(fill_value=0)\n",
    "\n",
    "# # Plot the abundance of each classification per file\n",
    "# abundance_per_file.plot(kind='bar', stacked=True, figsize=(20, 10))\n",
    "# plt.title('Abundance of Each Classification per File')\n",
    "# plt.ylabel('Count')\n",
    "# plt.xticks()\n",
    "# plt.show()"
   ]
  },
  {
   "cell_type": "code",
   "execution_count": 13,
   "metadata": {},
   "outputs": [
    {
     "data": {
      "image/png": "[encoded data removed]",
      "text/plain": [
       "<Figure size 2000x600 with 2 Axes>"
      ]
     },
     "metadata": {},
     "output_type": "display_data"
    }
   ],
   "source": [
    "# # Create a pivot table for the heatmap\n",
    "# heatmap_data = df.pivot_table(index='Filename', columns='MainClassification', values='ConfidenceScore', aggfunc='mean')\n",
    "\n",
    "# # Plot the heatmap of confidence scores\n",
    "# plt.figure(figsize=(20, 6))\n",
    "# sns.heatmap(heatmap_data, annot=True, cmap='viridis')\n",
    "# plt.title('Heatmap of Confidence Scores')\n",
    "# plt.xticks(rotation=45)\n",
    "# plt.show()"
   ]
  },
  {
   "cell_type": "code",
   "execution_count": 14,
   "metadata": {},
   "outputs": [
    {
     "data": {
      "application/vnd.microsoft.datawrangler.viewer.v0+json": {
       "columns": [
        {
         "name": "index",
         "rawType": "int64",
         "type": "integer"
        },
        {
         "name": "Path",
         "rawType": "object",
         "type": "string"
        },
        {
         "name": "Filename",
         "rawType": "object",
         "type": "string"
        },
        {
         "name": "StartSecond",
         "rawType": "int64",
         "type": "integer"
        },
        {
         "name": "EndSecond",
         "rawType": "int64",
         "type": "integer"
        },
        {
         "name": "MainClassification",
         "rawType": "object",
         "type": "string"
        },
        {
         "name": "ConfidenceScore",
         "rawType": "float64",
         "type": "float"
        },
        {
         "name": "ConfidenceVector",
         "rawType": "object",
         "type": "string"
        }
       ],
       "conversionMethod": "pd.DataFrame",
       "ref": "aee06e4b-609b-4119-86da-6693917f8a2e",
       "rows": [
        [
         "0",
         "D:/Downsampled AQUI TAMBIÉN/Tarifa 2 SYLENCE/BUENOS/channelA_2024-05-27_15-53-43_48kHz.wav",
         "channelA_2024-05-27_15-53-43_48kHz.wav",
         "0",
         "3",
         "Background",
         "0.99405587",
         "[0.9940558671951294, 0.00594412861391902]"
        ],
        [
         "1",
         "D:/Downsampled AQUI TAMBIÉN/Tarifa 2 SYLENCE/BUENOS/channelA_2024-05-27_15-53-43_48kHz.wav",
         "channelA_2024-05-27_15-53-43_48kHz.wav",
         "3",
         "6",
         "Background",
         "0.99334234",
         "[0.9933423399925232, 0.006657704245299101]"
        ],
        [
         "2",
         "D:/Downsampled AQUI TAMBIÉN/Tarifa 2 SYLENCE/BUENOS/channelA_2024-05-27_15-53-43_48kHz.wav",
         "channelA_2024-05-27_15-53-43_48kHz.wav",
         "6",
         "9",
         "Background",
         "0.9906282",
         "[0.990628182888031, 0.009371769614517689]"
        ],
        [
         "3",
         "D:/Downsampled AQUI TAMBIÉN/Tarifa 2 SYLENCE/BUENOS/channelA_2024-05-27_15-53-43_48kHz.wav",
         "channelA_2024-05-27_15-53-43_48kHz.wav",
         "9",
         "12",
         "Background",
         "0.98762345",
         "[0.9876234531402588, 0.012376519851386547]"
        ],
        [
         "4",
         "D:/Downsampled AQUI TAMBIÉN/Tarifa 2 SYLENCE/BUENOS/channelA_2024-05-27_15-53-43_48kHz.wav",
         "channelA_2024-05-27_15-53-43_48kHz.wav",
         "12",
         "15",
         "Background",
         "0.9927798",
         "[0.9927797913551331, 0.00722017465159297]"
        ],
        [
         "5",
         "D:/Downsampled AQUI TAMBIÉN/Tarifa 2 SYLENCE/BUENOS/channelA_2024-05-27_15-53-43_48kHz.wav",
         "channelA_2024-05-27_15-53-43_48kHz.wav",
         "15",
         "18",
         "Background",
         "0.9932013",
         "[0.9932013154029846, 0.006798677146434784]"
        ],
        [
         "6",
         "D:/Downsampled AQUI TAMBIÉN/Tarifa 2 SYLENCE/BUENOS/channelA_2024-05-27_15-53-43_48kHz.wav",
         "channelA_2024-05-27_15-53-43_48kHz.wav",
         "18",
         "21",
         "Background",
         "0.99205375",
         "[0.992053747177124, 0.007946260273456573]"
        ],
        [
         "7",
         "D:/Downsampled AQUI TAMBIÉN/Tarifa 2 SYLENCE/BUENOS/channelA_2024-05-27_15-53-43_48kHz.wav",
         "channelA_2024-05-27_15-53-43_48kHz.wav",
         "21",
         "24",
         "Background",
         "0.991764",
         "[0.9917640089988708, 0.008235925808548927]"
        ],
        [
         "8",
         "D:/Downsampled AQUI TAMBIÉN/Tarifa 2 SYLENCE/BUENOS/channelA_2024-05-27_15-53-43_48kHz.wav",
         "channelA_2024-05-27_15-53-43_48kHz.wav",
         "24",
         "27",
         "Background",
         "0.9718579",
         "[0.9718579053878784, 0.028142141178250313]"
        ],
        [
         "9",
         "D:/Downsampled AQUI TAMBIÉN/Tarifa 2 SYLENCE/BUENOS/channelA_2024-05-27_15-53-43_48kHz.wav",
         "channelA_2024-05-27_15-53-43_48kHz.wav",
         "27",
         "30",
         "Background",
         "0.98835236",
         "[0.988352358341217, 0.011647614650428295]"
        ],
        [
         "10",
         "D:/Downsampled AQUI TAMBIÉN/Tarifa 2 SYLENCE/BUENOS/channelA_2024-05-27_15-53-43_48kHz.wav",
         "channelA_2024-05-27_15-53-43_48kHz.wav",
         "30",
         "33",
         "Background",
         "0.98163235",
         "[0.9816323518753052, 0.018367642536759377]"
        ],
        [
         "11",
         "D:/Downsampled AQUI TAMBIÉN/Tarifa 2 SYLENCE/BUENOS/channelA_2024-05-27_15-53-43_48kHz.wav",
         "channelA_2024-05-27_15-53-43_48kHz.wav",
         "33",
         "36",
         "Background",
         "0.9587321",
         "[0.9587321281433105, 0.041267916560173035]"
        ],
        [
         "12",
         "D:/Downsampled AQUI TAMBIÉN/Tarifa 2 SYLENCE/BUENOS/channelA_2024-05-27_15-53-43_48kHz.wav",
         "channelA_2024-05-27_15-53-43_48kHz.wav",
         "36",
         "39",
         "Background",
         "0.973017",
         "[0.9730169773101807, 0.026983020827174187]"
        ],
        [
         "13",
         "D:/Downsampled AQUI TAMBIÉN/Tarifa 2 SYLENCE/BUENOS/channelA_2024-05-27_15-53-43_48kHz.wav",
         "channelA_2024-05-27_15-53-43_48kHz.wav",
         "39",
         "42",
         "Background",
         "0.977088",
         "[0.9770879745483398, 0.022912025451660156]"
        ],
        [
         "14",
         "D:/Downsampled AQUI TAMBIÉN/Tarifa 2 SYLENCE/BUENOS/channelA_2024-05-27_15-53-43_48kHz.wav",
         "channelA_2024-05-27_15-53-43_48kHz.wav",
         "42",
         "45",
         "Background",
         "0.9730909",
         "[0.9730908870697021, 0.026909079402685165]"
        ],
        [
         "15",
         "D:/Downsampled AQUI TAMBIÉN/Tarifa 2 SYLENCE/BUENOS/channelA_2024-05-27_15-53-43_48kHz.wav",
         "channelA_2024-05-27_15-53-43_48kHz.wav",
         "45",
         "48",
         "Background",
         "0.95215476",
         "[0.9521547555923462, 0.04784529283642769]"
        ],
        [
         "16",
         "D:/Downsampled AQUI TAMBIÉN/Tarifa 2 SYLENCE/BUENOS/channelA_2024-05-27_15-53-43_48kHz.wav",
         "channelA_2024-05-27_15-53-43_48kHz.wav",
         "48",
         "51",
         "Background",
         "0.97878814",
         "[0.9787881374359131, 0.02121182158589363]"
        ],
        [
         "17",
         "D:/Downsampled AQUI TAMBIÉN/Tarifa 2 SYLENCE/BUENOS/channelA_2024-05-27_15-53-43_48kHz.wav",
         "channelA_2024-05-27_15-53-43_48kHz.wav",
         "51",
         "54",
         "Background",
         "0.99276525",
         "[0.9927652478218079, 0.007234722375869751]"
        ],
        [
         "18",
         "D:/Downsampled AQUI TAMBIÉN/Tarifa 2 SYLENCE/BUENOS/channelA_2024-05-27_15-53-43_48kHz.wav",
         "channelA_2024-05-27_15-53-43_48kHz.wav",
         "54",
         "57",
         "Background",
         "0.97362876",
         "[0.9736287593841553, 0.02637128159403801]"
        ],
        [
         "19",
         "D:/Downsampled AQUI TAMBIÉN/Tarifa 2 SYLENCE/BUENOS/channelA_2024-05-27_15-53-43_48kHz.wav",
         "channelA_2024-05-27_15-53-43_48kHz.wav",
         "57",
         "60",
         "Background",
         "0.965208",
         "[0.9652079939842224, 0.0347919836640358]"
        ],
        [
         "20",
         "D:/Downsampled AQUI TAMBIÉN/Tarifa 2 SYLENCE/BUENOS/channelA_2024-05-27_15-53-43_48kHz.wav",
         "channelA_2024-05-27_15-53-43_48kHz.wav",
         "60",
         "63",
         "Background",
         "0.97225475",
         "[0.972254753112793, 0.02774529717862606]"
        ],
        [
         "21",
         "D:/Downsampled AQUI TAMBIÉN/Tarifa 2 SYLENCE/BUENOS/channelA_2024-05-27_15-53-43_48kHz.wav",
         "channelA_2024-05-27_15-53-43_48kHz.wav",
         "63",
         "66",
         "Background",
         "0.9739938",
         "[0.9739937782287598, 0.026006264612078667]"
        ],
        [
         "22",
         "D:/Downsampled AQUI TAMBIÉN/Tarifa 2 SYLENCE/BUENOS/channelA_2024-05-27_15-53-43_48kHz.wav",
         "channelA_2024-05-27_15-53-43_48kHz.wav",
         "66",
         "69",
         "Background",
         "0.96605796",
         "[0.9660579562187195, 0.03394199162721634]"
        ],
        [
         "23",
         "D:/Downsampled AQUI TAMBIÉN/Tarifa 2 SYLENCE/BUENOS/channelA_2024-05-27_15-53-43_48kHz.wav",
         "channelA_2024-05-27_15-53-43_48kHz.wav",
         "69",
         "72",
         "Background",
         "0.95406455",
         "[0.9540645480155945, 0.04593537375330925]"
        ],
        [
         "24",
         "D:/Downsampled AQUI TAMBIÉN/Tarifa 2 SYLENCE/BUENOS/channelA_2024-05-27_15-53-43_48kHz.wav",
         "channelA_2024-05-27_15-53-43_48kHz.wav",
         "72",
         "75",
         "Background",
         "0.97821015",
         "[0.9782101511955261, 0.02178983949124813]"
        ],
        [
         "25",
         "D:/Downsampled AQUI TAMBIÉN/Tarifa 2 SYLENCE/BUENOS/channelA_2024-05-27_15-53-43_48kHz.wav",
         "channelA_2024-05-27_15-53-43_48kHz.wav",
         "75",
         "78",
         "Background",
         "0.9846635",
         "[0.9846634864807129, 0.015336541458964348]"
        ],
        [
         "26",
         "D:/Downsampled AQUI TAMBIÉN/Tarifa 2 SYLENCE/BUENOS/channelA_2024-05-27_15-53-43_48kHz.wav",
         "channelA_2024-05-27_15-53-43_48kHz.wav",
         "78",
         "81",
         "Background",
         "0.9819978",
         "[0.9819977879524231, 0.018002167344093323]"
        ],
        [
         "27",
         "D:/Downsampled AQUI TAMBIÉN/Tarifa 2 SYLENCE/BUENOS/channelA_2024-05-27_15-53-43_48kHz.wav",
         "channelA_2024-05-27_15-53-43_48kHz.wav",
         "81",
         "84",
         "Background",
         "0.9770858",
         "[0.9770858287811279, 0.02291414886713028]"
        ],
        [
         "28",
         "D:/Downsampled AQUI TAMBIÉN/Tarifa 2 SYLENCE/BUENOS/channelA_2024-05-27_15-53-43_48kHz.wav",
         "channelA_2024-05-27_15-53-43_48kHz.wav",
         "84",
         "87",
         "Background",
         "0.9749527",
         "[0.9749526977539062, 0.025047367438673973]"
        ],
        [
         "29",
         "D:/Downsampled AQUI TAMBIÉN/Tarifa 2 SYLENCE/BUENOS/channelA_2024-05-27_15-53-43_48kHz.wav",
         "channelA_2024-05-27_15-53-43_48kHz.wav",
         "87",
         "90",
         "Background",
         "0.991024",
         "[0.9910240173339844, 0.008976016193628311]"
        ],
        [
         "30",
         "D:/Downsampled AQUI TAMBIÉN/Tarifa 2 SYLENCE/BUENOS/channelA_2024-05-27_15-53-43_48kHz.wav",
         "channelA_2024-05-27_15-53-43_48kHz.wav",
         "90",
         "93",
         "Background",
         "0.9896813",
         "[0.9896813035011292, 0.010318726301193237]"
        ],
        [
         "31",
         "D:/Downsampled AQUI TAMBIÉN/Tarifa 2 SYLENCE/BUENOS/channelA_2024-05-27_15-53-43_48kHz.wav",
         "channelA_2024-05-27_15-53-43_48kHz.wav",
         "93",
         "96",
         "Background",
         "0.99174166",
         "[0.9917416572570801, 0.008258344605565071]"
        ],
        [
         "32",
         "D:/Downsampled AQUI TAMBIÉN/Tarifa 2 SYLENCE/BUENOS/channelA_2024-05-27_15-53-43_48kHz.wav",
         "channelA_2024-05-27_15-53-43_48kHz.wav",
         "96",
         "99",
         "Background",
         "0.9925513",
         "[0.992551326751709, 0.007448718883097172]"
        ],
        [
         "33",
         "D:/Downsampled AQUI TAMBIÉN/Tarifa 2 SYLENCE/BUENOS/channelA_2024-05-27_15-53-43_48kHz.wav",
         "channelA_2024-05-27_15-53-43_48kHz.wav",
         "99",
         "102",
         "Background",
         "0.98770684",
         "[0.9877068400382996, 0.012293217703700066]"
        ],
        [
         "34",
         "D:/Downsampled AQUI TAMBIÉN/Tarifa 2 SYLENCE/BUENOS/channelA_2024-05-27_15-53-43_48kHz.wav",
         "channelA_2024-05-27_15-53-43_48kHz.wav",
         "102",
         "105",
         "Background",
         "0.9777324",
         "[0.9777324199676514, 0.022267555817961693]"
        ],
        [
         "35",
         "D:/Downsampled AQUI TAMBIÉN/Tarifa 2 SYLENCE/BUENOS/channelA_2024-05-27_15-53-43_48kHz.wav",
         "channelA_2024-05-27_15-53-43_48kHz.wav",
         "105",
         "108",
         "Background",
         "0.99290836",
         "[0.9929083585739136, 0.007091655861586332]"
        ],
        [
         "36",
         "D:/Downsampled AQUI TAMBIÉN/Tarifa 2 SYLENCE/BUENOS/channelA_2024-05-27_15-53-43_48kHz.wav",
         "channelA_2024-05-27_15-53-43_48kHz.wav",
         "108",
         "111",
         "Background",
         "0.9862764",
         "[0.986276388168335, 0.013723577372729778]"
        ],
        [
         "37",
         "D:/Downsampled AQUI TAMBIÉN/Tarifa 2 SYLENCE/BUENOS/channelA_2024-05-27_15-53-43_48kHz.wav",
         "channelA_2024-05-27_15-53-43_48kHz.wav",
         "111",
         "114",
         "Background",
         "0.9868932",
         "[0.9868931770324707, 0.013106804341077805]"
        ],
        [
         "38",
         "D:/Downsampled AQUI TAMBIÉN/Tarifa 2 SYLENCE/BUENOS/channelA_2024-05-27_15-53-43_48kHz.wav",
         "channelA_2024-05-27_15-53-43_48kHz.wav",
         "114",
         "117",
         "Background",
         "0.98783225",
         "[0.987832248210907, 0.012167827226221561]"
        ],
        [
         "39",
         "D:/Downsampled AQUI TAMBIÉN/Tarifa 2 SYLENCE/BUENOS/channelA_2024-05-27_15-53-43_48kHz.wav",
         "channelA_2024-05-27_15-53-43_48kHz.wav",
         "117",
         "120",
         "Background",
         "0.9671746",
         "[0.9671745896339417, 0.032825369387865067]"
        ],
        [
         "40",
         "D:/Downsampled AQUI TAMBIÉN/Tarifa 2 SYLENCE/BUENOS/channelA_2024-05-27_15-53-43_48kHz.wav",
         "channelA_2024-05-27_15-53-43_48kHz.wav",
         "120",
         "123",
         "Background",
         "0.99330574",
         "[0.9933057427406311, 0.006694238632917404]"
        ],
        [
         "41",
         "D:/Downsampled AQUI TAMBIÉN/Tarifa 2 SYLENCE/BUENOS/channelA_2024-05-27_15-53-43_48kHz.wav",
         "channelA_2024-05-27_15-53-43_48kHz.wav",
         "123",
         "126",
         "Background",
         "0.9838695",
         "[0.9838694930076599, 0.016130555421113968]"
        ],
        [
         "42",
         "D:/Downsampled AQUI TAMBIÉN/Tarifa 2 SYLENCE/BUENOS/channelA_2024-05-27_15-53-43_48kHz.wav",
         "channelA_2024-05-27_15-53-43_48kHz.wav",
         "126",
         "129",
         "Background",
         "0.9874042",
         "[0.9874042272567749, 0.012595832347869873]"
        ],
        [
         "43",
         "D:/Downsampled AQUI TAMBIÉN/Tarifa 2 SYLENCE/BUENOS/channelA_2024-05-27_15-53-43_48kHz.wav",
         "channelA_2024-05-27_15-53-43_48kHz.wav",
         "129",
         "132",
         "Background",
         "0.99280715",
         "[0.992807149887085, 0.007192779798060656]"
        ],
        [
         "44",
         "D:/Downsampled AQUI TAMBIÉN/Tarifa 2 SYLENCE/BUENOS/channelA_2024-05-27_15-53-43_48kHz.wav",
         "channelA_2024-05-27_15-53-43_48kHz.wav",
         "132",
         "135",
         "Background",
         "0.9896773",
         "[0.9896773099899292, 0.010322666727006435]"
        ],
        [
         "45",
         "D:/Downsampled AQUI TAMBIÉN/Tarifa 2 SYLENCE/BUENOS/channelA_2024-05-27_15-53-43_48kHz.wav",
         "channelA_2024-05-27_15-53-43_48kHz.wav",
         "135",
         "138",
         "Background",
         "0.98970336",
         "[0.989703357219696, 0.010296627879142761]"
        ],
        [
         "46",
         "D:/Downsampled AQUI TAMBIÉN/Tarifa 2 SYLENCE/BUENOS/channelA_2024-05-27_15-53-43_48kHz.wav",
         "channelA_2024-05-27_15-53-43_48kHz.wav",
         "138",
         "141",
         "Background",
         "0.98066175",
         "[0.9806617498397827, 0.019338257610797882]"
        ],
        [
         "47",
         "D:/Downsampled AQUI TAMBIÉN/Tarifa 2 SYLENCE/BUENOS/channelA_2024-05-27_15-53-43_48kHz.wav",
         "channelA_2024-05-27_15-53-43_48kHz.wav",
         "141",
         "144",
         "Background",
         "0.9840551",
         "[0.9840551018714905, 0.015944937244057655]"
        ],
        [
         "48",
         "D:/Downsampled AQUI TAMBIÉN/Tarifa 2 SYLENCE/BUENOS/channelA_2024-05-27_15-53-43_48kHz.wav",
         "channelA_2024-05-27_15-53-43_48kHz.wav",
         "144",
         "147",
         "Background",
         "0.98718566",
         "[0.9871856570243835, 0.012814359739422798]"
        ],
        [
         "49",
         "D:/Downsampled AQUI TAMBIÉN/Tarifa 2 SYLENCE/BUENOS/channelA_2024-05-27_15-53-43_48kHz.wav",
         "channelA_2024-05-27_15-53-43_48kHz.wav",
         "147",
         "150",
         "Background",
         "0.9815668",
         "[0.9815667867660522, 0.018433280289173126]"
        ]
       ],
       "shape": {
        "columns": 7,
        "rows": 479389
       }
      },
      "text/html": [
       "<div>\n",
       "<style scoped>\n",
       "    .dataframe tbody tr th:only-of-type {\n",
       "        vertical-align: middle;\n",
       "    }\n",
       "\n",
       "    .dataframe tbody tr th {\n",
       "        vertical-align: top;\n",
       "    }\n",
       "\n",
       "    .dataframe thead th {\n",
       "        text-align: right;\n",
       "    }\n",
       "</style>\n",
       "<table border=\"1\" class=\"dataframe\">\n",
       "  <thead>\n",
       "    <tr style=\"text-align: right;\">\n",
       "      <th></th>\n",
       "      <th>Path</th>\n",
       "      <th>Filename</th>\n",
       "      <th>StartSecond</th>\n",
       "      <th>EndSecond</th>\n",
       "      <th>MainClassification</th>\n",
       "      <th>ConfidenceScore</th>\n",
       "      <th>ConfidenceVector</th>\n",
       "    </tr>\n",
       "  </thead>\n",
       "  <tbody>\n",
       "    <tr>\n",
       "      <th>0</th>\n",
       "      <td>D:/Downsampled AQUI TAMBIÉN/Tarifa 2 SYLENCE/B...</td>\n",
       "      <td>channelA_2024-05-27_15-53-43_48kHz.wav</td>\n",
       "      <td>0</td>\n",
       "      <td>3</td>\n",
       "      <td>Background</td>\n",
       "      <td>0.994056</td>\n",
       "      <td>[0.9940558671951294, 0.00594412861391902]</td>\n",
       "    </tr>\n",
       "    <tr>\n",
       "      <th>1</th>\n",
       "      <td>D:/Downsampled AQUI TAMBIÉN/Tarifa 2 SYLENCE/B...</td>\n",
       "      <td>channelA_2024-05-27_15-53-43_48kHz.wav</td>\n",
       "      <td>3</td>\n",
       "      <td>6</td>\n",
       "      <td>Background</td>\n",
       "      <td>0.993342</td>\n",
       "      <td>[0.9933423399925232, 0.006657704245299101]</td>\n",
       "    </tr>\n",
       "    <tr>\n",
       "      <th>2</th>\n",
       "      <td>D:/Downsampled AQUI TAMBIÉN/Tarifa 2 SYLENCE/B...</td>\n",
       "      <td>channelA_2024-05-27_15-53-43_48kHz.wav</td>\n",
       "      <td>6</td>\n",
       "      <td>9</td>\n",
       "      <td>Background</td>\n",
       "      <td>0.990628</td>\n",
       "      <td>[0.990628182888031, 0.009371769614517689]</td>\n",
       "    </tr>\n",
       "    <tr>\n",
       "      <th>3</th>\n",
       "      <td>D:/Downsampled AQUI TAMBIÉN/Tarifa 2 SYLENCE/B...</td>\n",
       "      <td>channelA_2024-05-27_15-53-43_48kHz.wav</td>\n",
       "      <td>9</td>\n",
       "      <td>12</td>\n",
       "      <td>Background</td>\n",
       "      <td>0.987623</td>\n",
       "      <td>[0.9876234531402588, 0.012376519851386547]</td>\n",
       "    </tr>\n",
       "    <tr>\n",
       "      <th>4</th>\n",
       "      <td>D:/Downsampled AQUI TAMBIÉN/Tarifa 2 SYLENCE/B...</td>\n",
       "      <td>channelA_2024-05-27_15-53-43_48kHz.wav</td>\n",
       "      <td>12</td>\n",
       "      <td>15</td>\n",
       "      <td>Background</td>\n",
       "      <td>0.992780</td>\n",
       "      <td>[0.9927797913551331, 0.00722017465159297]</td>\n",
       "    </tr>\n",
       "    <tr>\n",
       "      <th>...</th>\n",
       "      <td>...</td>\n",
       "      <td>...</td>\n",
       "      <td>...</td>\n",
       "      <td>...</td>\n",
       "      <td>...</td>\n",
       "      <td>...</td>\n",
       "      <td>...</td>\n",
       "    </tr>\n",
       "    <tr>\n",
       "      <th>479384</th>\n",
       "      <td>D:/Downsampled AQUI TAMBIÉN/Tarifa 2 SYLENCE/B...</td>\n",
       "      <td>channelA_2024-06-13_07-18-14_48kHz.wav</td>\n",
       "      <td>285</td>\n",
       "      <td>288</td>\n",
       "      <td>Background</td>\n",
       "      <td>0.982023</td>\n",
       "      <td>[0.9820234179496765, 0.017976542934775352]</td>\n",
       "    </tr>\n",
       "    <tr>\n",
       "      <th>479385</th>\n",
       "      <td>D:/Downsampled AQUI TAMBIÉN/Tarifa 2 SYLENCE/B...</td>\n",
       "      <td>channelA_2024-06-13_07-18-14_48kHz.wav</td>\n",
       "      <td>288</td>\n",
       "      <td>291</td>\n",
       "      <td>Background</td>\n",
       "      <td>0.866458</td>\n",
       "      <td>[0.8664583563804626, 0.13354168832302094]</td>\n",
       "    </tr>\n",
       "    <tr>\n",
       "      <th>479386</th>\n",
       "      <td>D:/Downsampled AQUI TAMBIÉN/Tarifa 2 SYLENCE/B...</td>\n",
       "      <td>channelA_2024-06-13_07-18-14_48kHz.wav</td>\n",
       "      <td>291</td>\n",
       "      <td>294</td>\n",
       "      <td>Background</td>\n",
       "      <td>0.955901</td>\n",
       "      <td>[0.9559006094932556, 0.04409940913319588]</td>\n",
       "    </tr>\n",
       "    <tr>\n",
       "      <th>479387</th>\n",
       "      <td>D:/Downsampled AQUI TAMBIÉN/Tarifa 2 SYLENCE/B...</td>\n",
       "      <td>channelA_2024-06-13_07-18-14_48kHz.wav</td>\n",
       "      <td>294</td>\n",
       "      <td>297</td>\n",
       "      <td>Background</td>\n",
       "      <td>0.951665</td>\n",
       "      <td>[0.9516652226448059, 0.048334795981645584]</td>\n",
       "    </tr>\n",
       "    <tr>\n",
       "      <th>479388</th>\n",
       "      <td>D:/Downsampled AQUI TAMBIÉN/Tarifa 2 SYLENCE/B...</td>\n",
       "      <td>channelA_2024-06-13_07-18-14_48kHz.wav</td>\n",
       "      <td>297</td>\n",
       "      <td>300</td>\n",
       "      <td>Background</td>\n",
       "      <td>0.958857</td>\n",
       "      <td>[0.9588574171066284, 0.041142579168081284]</td>\n",
       "    </tr>\n",
       "  </tbody>\n",
       "</table>\n",
       "<p>479389 rows × 7 columns</p>\n",
       "</div>"
      ],
      "text/plain": [
       "                                                     Path  \\\n",
       "0       D:/Downsampled AQUI TAMBIÉN/Tarifa 2 SYLENCE/B...   \n",
       "1       D:/Downsampled AQUI TAMBIÉN/Tarifa 2 SYLENCE/B...   \n",
       "2       D:/Downsampled AQUI TAMBIÉN/Tarifa 2 SYLENCE/B...   \n",
       "3       D:/Downsampled AQUI TAMBIÉN/Tarifa 2 SYLENCE/B...   \n",
       "4       D:/Downsampled AQUI TAMBIÉN/Tarifa 2 SYLENCE/B...   \n",
       "...                                                   ...   \n",
       "479384  D:/Downsampled AQUI TAMBIÉN/Tarifa 2 SYLENCE/B...   \n",
       "479385  D:/Downsampled AQUI TAMBIÉN/Tarifa 2 SYLENCE/B...   \n",
       "479386  D:/Downsampled AQUI TAMBIÉN/Tarifa 2 SYLENCE/B...   \n",
       "479387  D:/Downsampled AQUI TAMBIÉN/Tarifa 2 SYLENCE/B...   \n",
       "479388  D:/Downsampled AQUI TAMBIÉN/Tarifa 2 SYLENCE/B...   \n",
       "\n",
       "                                      Filename  StartSecond  EndSecond  \\\n",
       "0       channelA_2024-05-27_15-53-43_48kHz.wav            0          3   \n",
       "1       channelA_2024-05-27_15-53-43_48kHz.wav            3          6   \n",
       "2       channelA_2024-05-27_15-53-43_48kHz.wav            6          9   \n",
       "3       channelA_2024-05-27_15-53-43_48kHz.wav            9         12   \n",
       "4       channelA_2024-05-27_15-53-43_48kHz.wav           12         15   \n",
       "...                                        ...          ...        ...   \n",
       "479384  channelA_2024-06-13_07-18-14_48kHz.wav          285        288   \n",
       "479385  channelA_2024-06-13_07-18-14_48kHz.wav          288        291   \n",
       "479386  channelA_2024-06-13_07-18-14_48kHz.wav          291        294   \n",
       "479387  channelA_2024-06-13_07-18-14_48kHz.wav          294        297   \n",
       "479388  channelA_2024-06-13_07-18-14_48kHz.wav          297        300   \n",
       "\n",
       "       MainClassification  ConfidenceScore  \\\n",
       "0              Background         0.994056   \n",
       "1              Background         0.993342   \n",
       "2              Background         0.990628   \n",
       "3              Background         0.987623   \n",
       "4              Background         0.992780   \n",
       "...                   ...              ...   \n",
       "479384         Background         0.982023   \n",
       "479385         Background         0.866458   \n",
       "479386         Background         0.955901   \n",
       "479387         Background         0.951665   \n",
       "479388         Background         0.958857   \n",
       "\n",
       "                                  ConfidenceVector  \n",
       "0        [0.9940558671951294, 0.00594412861391902]  \n",
       "1       [0.9933423399925232, 0.006657704245299101]  \n",
       "2        [0.990628182888031, 0.009371769614517689]  \n",
       "3       [0.9876234531402588, 0.012376519851386547]  \n",
       "4        [0.9927797913551331, 0.00722017465159297]  \n",
       "...                                            ...  \n",
       "479384  [0.9820234179496765, 0.017976542934775352]  \n",
       "479385   [0.8664583563804626, 0.13354168832302094]  \n",
       "479386   [0.9559006094932556, 0.04409940913319588]  \n",
       "479387  [0.9516652226448059, 0.048334795981645584]  \n",
       "479388  [0.9588574171066284, 0.041142579168081284]  \n",
       "\n",
       "[479389 rows x 7 columns]"
      ]
     },
     "execution_count": 14,
     "metadata": {},
     "output_type": "execute_result"
    }
   ],
   "source": [
    "df"
   ]
  },
  {
   "cell_type": "code",
   "execution_count": 15,
   "metadata": {},
   "outputs": [
    {
     "data": {
      "image/png": "[encoded data removed]",
      "text/plain": [
       "<Figure size 1200x600 with 1 Axes>"
      ]
     },
     "metadata": {},
     "output_type": "display_data"
    }
   ],
   "source": [
    "# Check the distribution of the confidence scores for each classification in ConfidenceVector\n",
    "confidence_vector = df['ConfidenceVector'].apply(eval)\n",
    "confidence_vector = pd.DataFrame(confidence_vector.tolist(), columns=CLASSES_MAPPING.keys())\n",
    "\n",
    "plt.figure(figsize=(12, 6))\n",
    "sns.boxplot(data=confidence_vector, orient='h')\n",
    "plt.title('Distribution of Confidence Scores for Each Classification in ConfidenceVector')\n",
    "plt.show()"
   ]
  },
  {
   "cell_type": "code",
   "execution_count": 16,
   "metadata": {},
   "outputs": [
    {
     "data": {
      "image/png": "[encoded data removed]",
      "text/plain": [
       "<Figure size 1200x600 with 1 Axes>"
      ]
     },
     "metadata": {},
     "output_type": "display_data"
    }
   ],
   "source": [
    "# Check the distribution of the confidence scores for each classification in ConfidenceVector\n",
    "plt.figure(figsize=(12, 6))\n",
    "sns.boxplot(data=df, x='MainClassification', y='ConfidenceScore')\n",
    "plt.title('Distribution of Confidence Scores for Each Classification in ConfidenceVector')\n",
    "plt.show()"
   ]
  },
  {
   "cell_type": "code",
   "execution_count": 17,
   "metadata": {},
   "outputs": [],
   "source": [
    "# Load predictions file\n",
    "# predictions_file = \"predictions.csv\"  # Replace with your actual file path\n",
    "# predictions_df = pd.read_csv(predictions_file)\n",
    "\n",
    "# Reverse mapping for easy lookup\n",
    "IDX_TO_CLASSES = {v: k for k, v in CLASSES_MAPPING.items()}"
   ]
  },
  {
   "cell_type": "code",
   "execution_count": 18,
   "metadata": {},
   "outputs": [],
   "source": [
    "def analyze_confidence_vectors(df, ignore_background=False, confidence_threshold=0.5):\n",
    "    results = []\n",
    "\n",
    "    for _, row in df.iterrows():\n",
    "        confidence_vector = eval(row['ConfidenceVector'])  # Convert string to list\n",
    "        main_class_idx = np.argmax(confidence_vector)\n",
    "        main_class_score = confidence_vector[main_class_idx]\n",
    "\n",
    "        # Sort classes by confidence\n",
    "        sorted_classes = sorted(\n",
    "            enumerate(confidence_vector), key=lambda x: x[1], reverse=True\n",
    "        )\n",
    "\n",
    "        # Filter background if necessary\n",
    "        if ignore_background:\n",
    "            sorted_classes = [sc for sc in sorted_classes if sc[0] != CLASSES_MAPPING['Background']]\n",
    "\n",
    "        # Filter by confidence threshold\n",
    "        sorted_classes = [sc for sc in sorted_classes if sc[1] >= confidence_threshold]\n",
    "\n",
    "        # Create a summary for this row\n",
    "        summary = {\n",
    "            'Filename': row['Filename'],\n",
    "            'StartSecond': row['StartSecond'],\n",
    "            'EndSecond': row['EndSecond'],\n",
    "            'MainClassification': IDX_TO_CLASSES[main_class_idx],\n",
    "            'MainConfidenceScore': main_class_score,\n",
    "            'TopClasses': [\n",
    "                {\n",
    "                    'Class': IDX_TO_CLASSES[class_idx],\n",
    "                    'Score': score\n",
    "                }\n",
    "                for class_idx, score in sorted_classes[:5]  # Top 5 classifications\n",
    "            ]\n",
    "        }\n",
    "        results.append(summary)\n",
    "\n",
    "    return results\n",
    "\n",
    "# Analyze with and without background, using a confidence threshold of 0.5\n",
    "# results_with_background = analyze_confidence_vectors(df, ignore_background=False, confidence_threshold=0.3)\n",
    "# results_without_background = analyze_confidence_vectors(df, ignore_background=True, confidence_threshold=0.3)"
   ]
  },
  {
   "cell_type": "code",
   "execution_count": 19,
   "metadata": {},
   "outputs": [],
   "source": [
    "# Visualization function\n",
    "def plot_top_classes(results, title):\n",
    "    class_counts = {}\n",
    "\n",
    "    for result in results:\n",
    "        for entry in result['TopClasses']:\n",
    "            class_name = entry['Class']\n",
    "            class_counts[class_name] = class_counts.get(class_name, 0) + 1\n",
    "\n",
    "    # Sort by frequency\n",
    "    sorted_counts = sorted(class_counts.items(), key=lambda x: x[1], reverse=True)\n",
    "    classes, counts = zip(*sorted_counts)\n",
    "\n",
    "    # Plot\n",
    "    plt.figure(figsize=(10, 6))\n",
    "    plt.bar(classes, counts, color='skyblue')\n",
    "    plt.xlabel('Class')\n",
    "    plt.ylabel('Frequency')\n",
    "    plt.title(title)\n",
    "    plt.xticks(rotation=45, ha='right')\n",
    "    plt.show()\n",
    "\n",
    "# # Plot results\n",
    "# print(\"Plotting results with background:\")\n",
    "# plot_top_classes(results_with_background, \"Top Classes with Background\")\n",
    "\n",
    "# print(\"\\nPlotting results without background:\")\n",
    "# plot_top_classes(results_without_background, \"Top Classes without Background\")"
   ]
  },
  {
   "cell_type": "code",
   "execution_count": 20,
   "metadata": {},
   "outputs": [
    {
     "name": "stdout",
     "output_type": "stream",
     "text": [
      "MainClassification\n",
      "Background    479234\n",
      "Whistle          155\n",
      "Name: count, dtype: int64\n"
     ]
    }
   ],
   "source": [
    "# Count number of rows per class\n",
    "print(df['MainClassification'].value_counts())"
   ]
  },
  {
   "cell_type": "code",
   "execution_count": null,
   "metadata": {},
   "outputs": [],
   "source": [
    "df_no_background = df[df['MainClassification'] != 'Background']\n",
    "# df_to_save = pd.concat([df_no_background, low_confidence])"
   ]
  },
  {
   "cell_type": "code",
   "execution_count": 22,
   "metadata": {},
   "outputs": [
    {
     "data": {
      "application/vnd.microsoft.datawrangler.viewer.v0+json": {
       "columns": [
        {
         "name": "index",
         "rawType": "int64",
         "type": "integer"
        },
        {
         "name": "Path",
         "rawType": "object",
         "type": "string"
        },
        {
         "name": "Filename",
         "rawType": "object",
         "type": "string"
        },
        {
         "name": "StartSecond",
         "rawType": "int64",
         "type": "integer"
        },
        {
         "name": "EndSecond",
         "rawType": "int64",
         "type": "integer"
        },
        {
         "name": "MainClassification",
         "rawType": "object",
         "type": "string"
        },
        {
         "name": "ConfidenceScore",
         "rawType": "float64",
         "type": "float"
        },
        {
         "name": "ConfidenceVector",
         "rawType": "object",
         "type": "string"
        }
       ],
       "conversionMethod": "pd.DataFrame",
       "ref": "b1b67861-5f1f-433f-976e-3639cee822ab",
       "rows": [
        [
         "7088",
         "D:/Downsampled AQUI TAMBIÉN/Tarifa 2 SYLENCE/BUENOS/channelA_2024-05-27_21-43-19_48kHz.wav",
         "channelA_2024-05-27_21-43-19_48kHz.wav",
         "288",
         "291",
         "Whistle",
         "0.56402147",
         "[0.435978502035141, 0.5640214681625366]"
        ],
        [
         "7092",
         "D:/Downsampled AQUI TAMBIÉN/Tarifa 2 SYLENCE/BUENOS/channelA_2024-05-27_21-48-19_48kHz.wav",
         "channelA_2024-05-27_21-48-19_48kHz.wav",
         "0",
         "3",
         "Whistle",
         "0.9783564",
         "[0.02164352871477604, 0.9783564209938049]"
        ],
        [
         "7100",
         "D:/Downsampled AQUI TAMBIÉN/Tarifa 2 SYLENCE/BUENOS/channelA_2024-05-27_21-48-19_48kHz.wav",
         "channelA_2024-05-27_21-48-19_48kHz.wav",
         "24",
         "27",
         "Whistle",
         "0.559729",
         "[0.4402709901332855, 0.5597289800643921]"
        ],
        [
         "7106",
         "D:/Downsampled AQUI TAMBIÉN/Tarifa 2 SYLENCE/BUENOS/channelA_2024-05-27_21-48-19_48kHz.wav",
         "channelA_2024-05-27_21-48-19_48kHz.wav",
         "42",
         "45",
         "Whistle",
         "0.99931884",
         "[0.0006812208448536694, 0.9993188381195068]"
        ],
        [
         "7108",
         "D:/Downsampled AQUI TAMBIÉN/Tarifa 2 SYLENCE/BUENOS/channelA_2024-05-27_21-48-19_48kHz.wav",
         "channelA_2024-05-27_21-48-19_48kHz.wav",
         "48",
         "51",
         "Whistle",
         "0.90074444",
         "[0.09925549477338791, 0.9007444381713867]"
        ],
        [
         "7109",
         "D:/Downsampled AQUI TAMBIÉN/Tarifa 2 SYLENCE/BUENOS/channelA_2024-05-27_21-48-19_48kHz.wav",
         "channelA_2024-05-27_21-48-19_48kHz.wav",
         "51",
         "54",
         "Whistle",
         "0.811521",
         "[0.18847902119159698, 0.8115209937095642]"
        ],
        [
         "7116",
         "D:/Downsampled AQUI TAMBIÉN/Tarifa 2 SYLENCE/BUENOS/channelA_2024-05-27_21-48-19_48kHz.wav",
         "channelA_2024-05-27_21-48-19_48kHz.wav",
         "72",
         "75",
         "Whistle",
         "0.99994993",
         "[5.009893357055262e-05, 0.9999499320983887]"
        ],
        [
         "7119",
         "D:/Downsampled AQUI TAMBIÉN/Tarifa 2 SYLENCE/BUENOS/channelA_2024-05-27_21-48-19_48kHz.wav",
         "channelA_2024-05-27_21-48-19_48kHz.wav",
         "81",
         "84",
         "Whistle",
         "0.9999932",
         "[6.8441863732005e-06, 0.9999932050704956]"
        ],
        [
         "7120",
         "D:/Downsampled AQUI TAMBIÉN/Tarifa 2 SYLENCE/BUENOS/channelA_2024-05-27_21-48-19_48kHz.wav",
         "channelA_2024-05-27_21-48-19_48kHz.wav",
         "84",
         "87",
         "Whistle",
         "0.9907212",
         "[0.009278811514377594, 0.9907212257385254]"
        ],
        [
         "7121",
         "D:/Downsampled AQUI TAMBIÉN/Tarifa 2 SYLENCE/BUENOS/channelA_2024-05-27_21-48-19_48kHz.wav",
         "channelA_2024-05-27_21-48-19_48kHz.wav",
         "87",
         "90",
         "Whistle",
         "0.56910855",
         "[0.43089136481285095, 0.5691085457801819]"
        ],
        [
         "7122",
         "D:/Downsampled AQUI TAMBIÉN/Tarifa 2 SYLENCE/BUENOS/channelA_2024-05-27_21-48-19_48kHz.wav",
         "channelA_2024-05-27_21-48-19_48kHz.wav",
         "90",
         "93",
         "Whistle",
         "0.9386188",
         "[0.06138114631175995, 0.9386187791824341]"
        ],
        [
         "7127",
         "D:/Downsampled AQUI TAMBIÉN/Tarifa 2 SYLENCE/BUENOS/channelA_2024-05-27_21-48-19_48kHz.wav",
         "channelA_2024-05-27_21-48-19_48kHz.wav",
         "105",
         "108",
         "Whistle",
         "0.9093441",
         "[0.09065590798854828, 0.9093440771102905]"
        ],
        [
         "7128",
         "D:/Downsampled AQUI TAMBIÉN/Tarifa 2 SYLENCE/BUENOS/channelA_2024-05-27_21-48-19_48kHz.wav",
         "channelA_2024-05-27_21-48-19_48kHz.wav",
         "108",
         "111",
         "Whistle",
         "0.9758607",
         "[0.024139277637004852, 0.9758607149124146]"
        ],
        [
         "7129",
         "D:/Downsampled AQUI TAMBIÉN/Tarifa 2 SYLENCE/BUENOS/channelA_2024-05-27_21-48-19_48kHz.wav",
         "channelA_2024-05-27_21-48-19_48kHz.wav",
         "111",
         "114",
         "Whistle",
         "0.99999046",
         "[9.527184374746867e-06, 0.9999904632568359]"
        ],
        [
         "7130",
         "D:/Downsampled AQUI TAMBIÉN/Tarifa 2 SYLENCE/BUENOS/channelA_2024-05-27_21-48-19_48kHz.wav",
         "channelA_2024-05-27_21-48-19_48kHz.wav",
         "114",
         "117",
         "Whistle",
         "0.99992716",
         "[7.280856516445056e-05, 0.9999271631240845]"
        ],
        [
         "7132",
         "D:/Downsampled AQUI TAMBIÉN/Tarifa 2 SYLENCE/BUENOS/channelA_2024-05-27_21-48-19_48kHz.wav",
         "channelA_2024-05-27_21-48-19_48kHz.wav",
         "120",
         "123",
         "Whistle",
         "0.53930587",
         "[0.4606941044330597, 0.5393058657646179]"
        ],
        [
         "7134",
         "D:/Downsampled AQUI TAMBIÉN/Tarifa 2 SYLENCE/BUENOS/channelA_2024-05-27_21-48-19_48kHz.wav",
         "channelA_2024-05-27_21-48-19_48kHz.wav",
         "126",
         "129",
         "Whistle",
         "0.99993515",
         "[6.48788918624632e-05, 0.9999351501464844]"
        ],
        [
         "7136",
         "D:/Downsampled AQUI TAMBIÉN/Tarifa 2 SYLENCE/BUENOS/channelA_2024-05-27_21-48-19_48kHz.wav",
         "channelA_2024-05-27_21-48-19_48kHz.wav",
         "132",
         "135",
         "Whistle",
         "0.84296435",
         "[0.15703566372394562, 0.8429643511772156]"
        ],
        [
         "7137",
         "D:/Downsampled AQUI TAMBIÉN/Tarifa 2 SYLENCE/BUENOS/channelA_2024-05-27_21-48-19_48kHz.wav",
         "channelA_2024-05-27_21-48-19_48kHz.wav",
         "135",
         "138",
         "Whistle",
         "0.97949535",
         "[0.02050456590950489, 0.9794953465461731]"
        ],
        [
         "7139",
         "D:/Downsampled AQUI TAMBIÉN/Tarifa 2 SYLENCE/BUENOS/channelA_2024-05-27_21-48-19_48kHz.wav",
         "channelA_2024-05-27_21-48-19_48kHz.wav",
         "141",
         "144",
         "Whistle",
         "0.9913436",
         "[0.008656387217342854, 0.99134361743927]"
        ],
        [
         "7140",
         "D:/Downsampled AQUI TAMBIÉN/Tarifa 2 SYLENCE/BUENOS/channelA_2024-05-27_21-48-19_48kHz.wav",
         "channelA_2024-05-27_21-48-19_48kHz.wav",
         "144",
         "147",
         "Whistle",
         "0.99997973",
         "[2.0249261069693603e-05, 0.9999797344207764]"
        ],
        [
         "7141",
         "D:/Downsampled AQUI TAMBIÉN/Tarifa 2 SYLENCE/BUENOS/channelA_2024-05-27_21-48-19_48kHz.wav",
         "channelA_2024-05-27_21-48-19_48kHz.wav",
         "147",
         "150",
         "Whistle",
         "0.9999956",
         "[4.44839906776906e-06, 0.9999955892562866]"
        ],
        [
         "7142",
         "D:/Downsampled AQUI TAMBIÉN/Tarifa 2 SYLENCE/BUENOS/channelA_2024-05-27_21-48-19_48kHz.wav",
         "channelA_2024-05-27_21-48-19_48kHz.wav",
         "150",
         "153",
         "Whistle",
         "0.99998415",
         "[1.5894334865151905e-05, 0.9999841451644897]"
        ],
        [
         "7143",
         "D:/Downsampled AQUI TAMBIÉN/Tarifa 2 SYLENCE/BUENOS/channelA_2024-05-27_21-48-19_48kHz.wav",
         "channelA_2024-05-27_21-48-19_48kHz.wav",
         "153",
         "156",
         "Whistle",
         "0.9999974",
         "[2.662151473487029e-06, 0.9999973773956299]"
        ],
        [
         "7144",
         "D:/Downsampled AQUI TAMBIÉN/Tarifa 2 SYLENCE/BUENOS/channelA_2024-05-27_21-48-19_48kHz.wav",
         "channelA_2024-05-27_21-48-19_48kHz.wav",
         "156",
         "159",
         "Whistle",
         "0.9999881",
         "[1.190432067232905e-05, 0.9999880790710449]"
        ],
        [
         "7146",
         "D:/Downsampled AQUI TAMBIÉN/Tarifa 2 SYLENCE/BUENOS/channelA_2024-05-27_21-48-19_48kHz.wav",
         "channelA_2024-05-27_21-48-19_48kHz.wav",
         "162",
         "165",
         "Whistle",
         "0.5763105",
         "[0.42368945479393005, 0.5763105154037476]"
        ],
        [
         "7147",
         "D:/Downsampled AQUI TAMBIÉN/Tarifa 2 SYLENCE/BUENOS/channelA_2024-05-27_21-48-19_48kHz.wav",
         "channelA_2024-05-27_21-48-19_48kHz.wav",
         "165",
         "168",
         "Whistle",
         "0.8453367",
         "[0.1546632945537567, 0.8453366756439209]"
        ],
        [
         "7148",
         "D:/Downsampled AQUI TAMBIÉN/Tarifa 2 SYLENCE/BUENOS/channelA_2024-05-27_21-48-19_48kHz.wav",
         "channelA_2024-05-27_21-48-19_48kHz.wav",
         "168",
         "171",
         "Whistle",
         "0.9992353",
         "[0.0007646821322850883, 0.9992352724075317]"
        ],
        [
         "7150",
         "D:/Downsampled AQUI TAMBIÉN/Tarifa 2 SYLENCE/BUENOS/channelA_2024-05-27_21-48-19_48kHz.wav",
         "channelA_2024-05-27_21-48-19_48kHz.wav",
         "174",
         "177",
         "Whistle",
         "0.9177319",
         "[0.08226814866065979, 0.9177318811416626]"
        ],
        [
         "7151",
         "D:/Downsampled AQUI TAMBIÉN/Tarifa 2 SYLENCE/BUENOS/channelA_2024-05-27_21-48-19_48kHz.wav",
         "channelA_2024-05-27_21-48-19_48kHz.wav",
         "177",
         "180",
         "Whistle",
         "0.9922162",
         "[0.007783738896250725, 0.9922162294387817]"
        ],
        [
         "7152",
         "D:/Downsampled AQUI TAMBIÉN/Tarifa 2 SYLENCE/BUENOS/channelA_2024-05-27_21-48-19_48kHz.wav",
         "channelA_2024-05-27_21-48-19_48kHz.wav",
         "180",
         "183",
         "Whistle",
         "0.9973763",
         "[0.0026236975099891424, 0.9973763227462769]"
        ],
        [
         "7153",
         "D:/Downsampled AQUI TAMBIÉN/Tarifa 2 SYLENCE/BUENOS/channelA_2024-05-27_21-48-19_48kHz.wav",
         "channelA_2024-05-27_21-48-19_48kHz.wav",
         "183",
         "186",
         "Whistle",
         "0.99855787",
         "[0.001442184206098318, 0.9985578656196594]"
        ],
        [
         "7154",
         "D:/Downsampled AQUI TAMBIÉN/Tarifa 2 SYLENCE/BUENOS/channelA_2024-05-27_21-48-19_48kHz.wav",
         "channelA_2024-05-27_21-48-19_48kHz.wav",
         "186",
         "189",
         "Whistle",
         "0.9990594",
         "[0.0009406888857483864, 0.9990593791007996]"
        ],
        [
         "7155",
         "D:/Downsampled AQUI TAMBIÉN/Tarifa 2 SYLENCE/BUENOS/channelA_2024-05-27_21-48-19_48kHz.wav",
         "channelA_2024-05-27_21-48-19_48kHz.wav",
         "189",
         "192",
         "Whistle",
         "0.9998406",
         "[0.00015941685705911368, 0.9998406171798706]"
        ],
        [
         "7156",
         "D:/Downsampled AQUI TAMBIÉN/Tarifa 2 SYLENCE/BUENOS/channelA_2024-05-27_21-48-19_48kHz.wav",
         "channelA_2024-05-27_21-48-19_48kHz.wav",
         "192",
         "195",
         "Whistle",
         "0.8521345",
         "[0.14786551892757416, 0.8521345257759094]"
        ],
        [
         "7158",
         "D:/Downsampled AQUI TAMBIÉN/Tarifa 2 SYLENCE/BUENOS/channelA_2024-05-27_21-48-19_48kHz.wav",
         "channelA_2024-05-27_21-48-19_48kHz.wav",
         "198",
         "201",
         "Whistle",
         "0.9583951",
         "[0.041604895144701004, 0.9583951234817505]"
        ],
        [
         "7165",
         "D:/Downsampled AQUI TAMBIÉN/Tarifa 2 SYLENCE/BUENOS/channelA_2024-05-27_21-48-19_48kHz.wav",
         "channelA_2024-05-27_21-48-19_48kHz.wav",
         "219",
         "222",
         "Whistle",
         "0.96751493",
         "[0.03248506784439087, 0.9675149321556091]"
        ],
        [
         "7166",
         "D:/Downsampled AQUI TAMBIÉN/Tarifa 2 SYLENCE/BUENOS/channelA_2024-05-27_21-48-19_48kHz.wav",
         "channelA_2024-05-27_21-48-19_48kHz.wav",
         "222",
         "225",
         "Whistle",
         "0.897157",
         "[0.10284304618835449, 0.8971570134162903]"
        ],
        [
         "7175",
         "D:/Downsampled AQUI TAMBIÉN/Tarifa 2 SYLENCE/BUENOS/channelA_2024-05-27_21-48-19_48kHz.wav",
         "channelA_2024-05-27_21-48-19_48kHz.wav",
         "249",
         "252",
         "Whistle",
         "0.9996284",
         "[0.00037151097785681486, 0.9996284246444702]"
        ],
        [
         "11445",
         "D:/Downsampled AQUI TAMBIÉN/Tarifa 2 SYLENCE/BUENOS/channelA_2024-05-28_01-21-47_48kHz.wav",
         "channelA_2024-05-28_01-21-47_48kHz.wav",
         "249",
         "252",
         "Whistle",
         "0.5609731",
         "[0.4390268325805664, 0.5609731078147888]"
        ],
        [
         "11453",
         "D:/Downsampled AQUI TAMBIÉN/Tarifa 2 SYLENCE/BUENOS/channelA_2024-05-28_01-21-47_48kHz.wav",
         "channelA_2024-05-28_01-21-47_48kHz.wav",
         "273",
         "276",
         "Whistle",
         "0.90019727",
         "[0.09980273246765137, 0.9001972675323486]"
        ],
        [
         "11454",
         "D:/Downsampled AQUI TAMBIÉN/Tarifa 2 SYLENCE/BUENOS/channelA_2024-05-28_01-21-47_48kHz.wav",
         "channelA_2024-05-28_01-21-47_48kHz.wav",
         "276",
         "279",
         "Whistle",
         "0.74121714",
         "[0.2587828040122986, 0.7412171363830566]"
        ],
        [
         "11464",
         "D:/Downsampled AQUI TAMBIÉN/Tarifa 2 SYLENCE/BUENOS/channelA_2024-05-28_01-26-47_48kHz.wav",
         "channelA_2024-05-28_01-26-47_48kHz.wav",
         "6",
         "9",
         "Whistle",
         "0.94204456",
         "[0.05795550346374512, 0.9420445561408997]"
        ],
        [
         "11465",
         "D:/Downsampled AQUI TAMBIÉN/Tarifa 2 SYLENCE/BUENOS/channelA_2024-05-28_01-26-47_48kHz.wav",
         "channelA_2024-05-28_01-26-47_48kHz.wav",
         "9",
         "12",
         "Whistle",
         "0.99999976",
         "[2.0985370952075755e-07, 0.9999997615814209]"
        ],
        [
         "11467",
         "D:/Downsampled AQUI TAMBIÉN/Tarifa 2 SYLENCE/BUENOS/channelA_2024-05-28_01-26-47_48kHz.wav",
         "channelA_2024-05-28_01-26-47_48kHz.wav",
         "15",
         "18",
         "Whistle",
         "0.9940957",
         "[0.005904331803321838, 0.9940956830978394]"
        ],
        [
         "11469",
         "D:/Downsampled AQUI TAMBIÉN/Tarifa 2 SYLENCE/BUENOS/channelA_2024-05-28_01-26-47_48kHz.wav",
         "channelA_2024-05-28_01-26-47_48kHz.wav",
         "21",
         "24",
         "Whistle",
         "0.7623898",
         "[0.23761028051376343, 0.7623897790908813]"
        ],
        [
         "11470",
         "D:/Downsampled AQUI TAMBIÉN/Tarifa 2 SYLENCE/BUENOS/channelA_2024-05-28_01-26-47_48kHz.wav",
         "channelA_2024-05-28_01-26-47_48kHz.wav",
         "24",
         "27",
         "Whistle",
         "0.998995",
         "[0.0010049485135823488, 0.9989950060844421]"
        ],
        [
         "11471",
         "D:/Downsampled AQUI TAMBIÉN/Tarifa 2 SYLENCE/BUENOS/channelA_2024-05-28_01-26-47_48kHz.wav",
         "channelA_2024-05-28_01-26-47_48kHz.wav",
         "27",
         "30",
         "Whistle",
         "0.9930577",
         "[0.006942312698811293, 0.9930577278137207]"
        ],
        [
         "11472",
         "D:/Downsampled AQUI TAMBIÉN/Tarifa 2 SYLENCE/BUENOS/channelA_2024-05-28_01-26-47_48kHz.wav",
         "channelA_2024-05-28_01-26-47_48kHz.wav",
         "30",
         "33",
         "Whistle",
         "0.7066848",
         "[0.29331523180007935, 0.7066848278045654]"
        ],
        [
         "11473",
         "D:/Downsampled AQUI TAMBIÉN/Tarifa 2 SYLENCE/BUENOS/channelA_2024-05-28_01-26-47_48kHz.wav",
         "channelA_2024-05-28_01-26-47_48kHz.wav",
         "33",
         "36",
         "Whistle",
         "0.60626155",
         "[0.3937384784221649, 0.6062615513801575]"
        ]
       ],
       "shape": {
        "columns": 7,
        "rows": 155
       }
      },
      "text/html": [
       "<div>\n",
       "<style scoped>\n",
       "    .dataframe tbody tr th:only-of-type {\n",
       "        vertical-align: middle;\n",
       "    }\n",
       "\n",
       "    .dataframe tbody tr th {\n",
       "        vertical-align: top;\n",
       "    }\n",
       "\n",
       "    .dataframe thead th {\n",
       "        text-align: right;\n",
       "    }\n",
       "</style>\n",
       "<table border=\"1\" class=\"dataframe\">\n",
       "  <thead>\n",
       "    <tr style=\"text-align: right;\">\n",
       "      <th></th>\n",
       "      <th>Path</th>\n",
       "      <th>Filename</th>\n",
       "      <th>StartSecond</th>\n",
       "      <th>EndSecond</th>\n",
       "      <th>MainClassification</th>\n",
       "      <th>ConfidenceScore</th>\n",
       "      <th>ConfidenceVector</th>\n",
       "    </tr>\n",
       "  </thead>\n",
       "  <tbody>\n",
       "    <tr>\n",
       "      <th>7088</th>\n",
       "      <td>D:/Downsampled AQUI TAMBIÉN/Tarifa 2 SYLENCE/B...</td>\n",
       "      <td>channelA_2024-05-27_21-43-19_48kHz.wav</td>\n",
       "      <td>288</td>\n",
       "      <td>291</td>\n",
       "      <td>Whistle</td>\n",
       "      <td>0.564021</td>\n",
       "      <td>[0.435978502035141, 0.5640214681625366]</td>\n",
       "    </tr>\n",
       "    <tr>\n",
       "      <th>7092</th>\n",
       "      <td>D:/Downsampled AQUI TAMBIÉN/Tarifa 2 SYLENCE/B...</td>\n",
       "      <td>channelA_2024-05-27_21-48-19_48kHz.wav</td>\n",
       "      <td>0</td>\n",
       "      <td>3</td>\n",
       "      <td>Whistle</td>\n",
       "      <td>0.978356</td>\n",
       "      <td>[0.02164352871477604, 0.9783564209938049]</td>\n",
       "    </tr>\n",
       "    <tr>\n",
       "      <th>7100</th>\n",
       "      <td>D:/Downsampled AQUI TAMBIÉN/Tarifa 2 SYLENCE/B...</td>\n",
       "      <td>channelA_2024-05-27_21-48-19_48kHz.wav</td>\n",
       "      <td>24</td>\n",
       "      <td>27</td>\n",
       "      <td>Whistle</td>\n",
       "      <td>0.559729</td>\n",
       "      <td>[0.4402709901332855, 0.5597289800643921]</td>\n",
       "    </tr>\n",
       "    <tr>\n",
       "      <th>7106</th>\n",
       "      <td>D:/Downsampled AQUI TAMBIÉN/Tarifa 2 SYLENCE/B...</td>\n",
       "      <td>channelA_2024-05-27_21-48-19_48kHz.wav</td>\n",
       "      <td>42</td>\n",
       "      <td>45</td>\n",
       "      <td>Whistle</td>\n",
       "      <td>0.999319</td>\n",
       "      <td>[0.0006812208448536694, 0.9993188381195068]</td>\n",
       "    </tr>\n",
       "    <tr>\n",
       "      <th>7108</th>\n",
       "      <td>D:/Downsampled AQUI TAMBIÉN/Tarifa 2 SYLENCE/B...</td>\n",
       "      <td>channelA_2024-05-27_21-48-19_48kHz.wav</td>\n",
       "      <td>48</td>\n",
       "      <td>51</td>\n",
       "      <td>Whistle</td>\n",
       "      <td>0.900744</td>\n",
       "      <td>[0.09925549477338791, 0.9007444381713867]</td>\n",
       "    </tr>\n",
       "    <tr>\n",
       "      <th>...</th>\n",
       "      <td>...</td>\n",
       "      <td>...</td>\n",
       "      <td>...</td>\n",
       "      <td>...</td>\n",
       "      <td>...</td>\n",
       "      <td>...</td>\n",
       "      <td>...</td>\n",
       "    </tr>\n",
       "    <tr>\n",
       "      <th>460971</th>\n",
       "      <td>D:/Downsampled AQUI TAMBIÉN/Tarifa 2 SYLENCE/B...</td>\n",
       "      <td>channelA_2024-06-12_16-00-33_48kHz.wav</td>\n",
       "      <td>108</td>\n",
       "      <td>111</td>\n",
       "      <td>Whistle</td>\n",
       "      <td>0.619309</td>\n",
       "      <td>[0.3806910216808319, 0.6193089485168457]</td>\n",
       "    </tr>\n",
       "    <tr>\n",
       "      <th>461244</th>\n",
       "      <td>D:/Downsampled AQUI TAMBIÉN/Tarifa 2 SYLENCE/B...</td>\n",
       "      <td>channelA_2024-06-12_16-15-33_48kHz.wav</td>\n",
       "      <td>27</td>\n",
       "      <td>30</td>\n",
       "      <td>Whistle</td>\n",
       "      <td>0.578439</td>\n",
       "      <td>[0.42156097292900085, 0.5784390568733215]</td>\n",
       "    </tr>\n",
       "    <tr>\n",
       "      <th>461247</th>\n",
       "      <td>D:/Downsampled AQUI TAMBIÉN/Tarifa 2 SYLENCE/B...</td>\n",
       "      <td>channelA_2024-06-12_16-15-33_48kHz.wav</td>\n",
       "      <td>36</td>\n",
       "      <td>39</td>\n",
       "      <td>Whistle</td>\n",
       "      <td>0.614954</td>\n",
       "      <td>[0.38504597544670105, 0.6149540543556213]</td>\n",
       "    </tr>\n",
       "    <tr>\n",
       "      <th>461249</th>\n",
       "      <td>D:/Downsampled AQUI TAMBIÉN/Tarifa 2 SYLENCE/B...</td>\n",
       "      <td>channelA_2024-06-12_16-15-33_48kHz.wav</td>\n",
       "      <td>42</td>\n",
       "      <td>45</td>\n",
       "      <td>Whistle</td>\n",
       "      <td>0.606559</td>\n",
       "      <td>[0.393441379070282, 0.606558620929718]</td>\n",
       "    </tr>\n",
       "    <tr>\n",
       "      <th>461257</th>\n",
       "      <td>D:/Downsampled AQUI TAMBIÉN/Tarifa 2 SYLENCE/B...</td>\n",
       "      <td>channelA_2024-06-12_16-15-33_48kHz.wav</td>\n",
       "      <td>66</td>\n",
       "      <td>69</td>\n",
       "      <td>Whistle</td>\n",
       "      <td>0.552018</td>\n",
       "      <td>[0.44798219203948975, 0.552017867565155]</td>\n",
       "    </tr>\n",
       "  </tbody>\n",
       "</table>\n",
       "<p>155 rows × 7 columns</p>\n",
       "</div>"
      ],
      "text/plain": [
       "                                                     Path  \\\n",
       "7088    D:/Downsampled AQUI TAMBIÉN/Tarifa 2 SYLENCE/B...   \n",
       "7092    D:/Downsampled AQUI TAMBIÉN/Tarifa 2 SYLENCE/B...   \n",
       "7100    D:/Downsampled AQUI TAMBIÉN/Tarifa 2 SYLENCE/B...   \n",
       "7106    D:/Downsampled AQUI TAMBIÉN/Tarifa 2 SYLENCE/B...   \n",
       "7108    D:/Downsampled AQUI TAMBIÉN/Tarifa 2 SYLENCE/B...   \n",
       "...                                                   ...   \n",
       "460971  D:/Downsampled AQUI TAMBIÉN/Tarifa 2 SYLENCE/B...   \n",
       "461244  D:/Downsampled AQUI TAMBIÉN/Tarifa 2 SYLENCE/B...   \n",
       "461247  D:/Downsampled AQUI TAMBIÉN/Tarifa 2 SYLENCE/B...   \n",
       "461249  D:/Downsampled AQUI TAMBIÉN/Tarifa 2 SYLENCE/B...   \n",
       "461257  D:/Downsampled AQUI TAMBIÉN/Tarifa 2 SYLENCE/B...   \n",
       "\n",
       "                                      Filename  StartSecond  EndSecond  \\\n",
       "7088    channelA_2024-05-27_21-43-19_48kHz.wav          288        291   \n",
       "7092    channelA_2024-05-27_21-48-19_48kHz.wav            0          3   \n",
       "7100    channelA_2024-05-27_21-48-19_48kHz.wav           24         27   \n",
       "7106    channelA_2024-05-27_21-48-19_48kHz.wav           42         45   \n",
       "7108    channelA_2024-05-27_21-48-19_48kHz.wav           48         51   \n",
       "...                                        ...          ...        ...   \n",
       "460971  channelA_2024-06-12_16-00-33_48kHz.wav          108        111   \n",
       "461244  channelA_2024-06-12_16-15-33_48kHz.wav           27         30   \n",
       "461247  channelA_2024-06-12_16-15-33_48kHz.wav           36         39   \n",
       "461249  channelA_2024-06-12_16-15-33_48kHz.wav           42         45   \n",
       "461257  channelA_2024-06-12_16-15-33_48kHz.wav           66         69   \n",
       "\n",
       "       MainClassification  ConfidenceScore  \\\n",
       "7088              Whistle         0.564021   \n",
       "7092              Whistle         0.978356   \n",
       "7100              Whistle         0.559729   \n",
       "7106              Whistle         0.999319   \n",
       "7108              Whistle         0.900744   \n",
       "...                   ...              ...   \n",
       "460971            Whistle         0.619309   \n",
       "461244            Whistle         0.578439   \n",
       "461247            Whistle         0.614954   \n",
       "461249            Whistle         0.606559   \n",
       "461257            Whistle         0.552018   \n",
       "\n",
       "                                   ConfidenceVector  \n",
       "7088        [0.435978502035141, 0.5640214681625366]  \n",
       "7092      [0.02164352871477604, 0.9783564209938049]  \n",
       "7100       [0.4402709901332855, 0.5597289800643921]  \n",
       "7106    [0.0006812208448536694, 0.9993188381195068]  \n",
       "7108      [0.09925549477338791, 0.9007444381713867]  \n",
       "...                                             ...  \n",
       "460971     [0.3806910216808319, 0.6193089485168457]  \n",
       "461244    [0.42156097292900085, 0.5784390568733215]  \n",
       "461247    [0.38504597544670105, 0.6149540543556213]  \n",
       "461249       [0.393441379070282, 0.606558620929718]  \n",
       "461257     [0.44798219203948975, 0.552017867565155]  \n",
       "\n",
       "[155 rows x 7 columns]"
      ]
     },
     "execution_count": 22,
     "metadata": {},
     "output_type": "execute_result"
    }
   ],
   "source": [
    "df_no_background"
   ]
  },
  {
   "cell_type": "code",
   "execution_count": 23,
   "metadata": {},
   "outputs": [
    {
     "name": "stderr",
     "output_type": "stream",
     "text": [
      "/tmp/ipykernel_155196/2596681554.py:2: SettingWithCopyWarning: \n",
      "A value is trying to be set on a copy of a slice from a DataFrame.\n",
      "Try using .loc[row_indexer,col_indexer] = value instead\n",
      "\n",
      "See the caveats in the documentation: https://pandas.pydata.org/pandas-docs/stable/user_guide/indexing.html#returning-a-view-versus-a-copy\n",
      "  df_no_background[\"Path\"] = df_no_background[\"Path\"].str.split(\"D:/\").str[1]\n"
     ]
    },
    {
     "data": {
      "application/vnd.microsoft.datawrangler.viewer.v0+json": {
       "columns": [
        {
         "name": "index",
         "rawType": "int64",
         "type": "integer"
        },
        {
         "name": "Path",
         "rawType": "object",
         "type": "string"
        },
        {
         "name": "Filename",
         "rawType": "object",
         "type": "string"
        },
        {
         "name": "StartSecond",
         "rawType": "int64",
         "type": "integer"
        },
        {
         "name": "EndSecond",
         "rawType": "int64",
         "type": "integer"
        },
        {
         "name": "MainClassification",
         "rawType": "object",
         "type": "string"
        },
        {
         "name": "ConfidenceScore",
         "rawType": "float64",
         "type": "float"
        },
        {
         "name": "ConfidenceVector",
         "rawType": "object",
         "type": "string"
        }
       ],
       "conversionMethod": "pd.DataFrame",
       "ref": "9eb7fa41-8080-4b6c-8f7b-ea444387ea4c",
       "rows": [
        [
         "7088",
         "Downsampled AQUI TAMBIÉN/Tarifa 2 SYLENCE/BUENOS/channelA_2024-05-27_21-43-19_48kHz.wav",
         "channelA_2024-05-27_21-43-19_48kHz.wav",
         "288",
         "291",
         "Whistle",
         "0.56402147",
         "[0.435978502035141, 0.5640214681625366]"
        ],
        [
         "7092",
         "Downsampled AQUI TAMBIÉN/Tarifa 2 SYLENCE/BUENOS/channelA_2024-05-27_21-48-19_48kHz.wav",
         "channelA_2024-05-27_21-48-19_48kHz.wav",
         "0",
         "3",
         "Whistle",
         "0.9783564",
         "[0.02164352871477604, 0.9783564209938049]"
        ],
        [
         "7100",
         "Downsampled AQUI TAMBIÉN/Tarifa 2 SYLENCE/BUENOS/channelA_2024-05-27_21-48-19_48kHz.wav",
         "channelA_2024-05-27_21-48-19_48kHz.wav",
         "24",
         "27",
         "Whistle",
         "0.559729",
         "[0.4402709901332855, 0.5597289800643921]"
        ],
        [
         "7106",
         "Downsampled AQUI TAMBIÉN/Tarifa 2 SYLENCE/BUENOS/channelA_2024-05-27_21-48-19_48kHz.wav",
         "channelA_2024-05-27_21-48-19_48kHz.wav",
         "42",
         "45",
         "Whistle",
         "0.99931884",
         "[0.0006812208448536694, 0.9993188381195068]"
        ],
        [
         "7108",
         "Downsampled AQUI TAMBIÉN/Tarifa 2 SYLENCE/BUENOS/channelA_2024-05-27_21-48-19_48kHz.wav",
         "channelA_2024-05-27_21-48-19_48kHz.wav",
         "48",
         "51",
         "Whistle",
         "0.90074444",
         "[0.09925549477338791, 0.9007444381713867]"
        ],
        [
         "7109",
         "Downsampled AQUI TAMBIÉN/Tarifa 2 SYLENCE/BUENOS/channelA_2024-05-27_21-48-19_48kHz.wav",
         "channelA_2024-05-27_21-48-19_48kHz.wav",
         "51",
         "54",
         "Whistle",
         "0.811521",
         "[0.18847902119159698, 0.8115209937095642]"
        ],
        [
         "7116",
         "Downsampled AQUI TAMBIÉN/Tarifa 2 SYLENCE/BUENOS/channelA_2024-05-27_21-48-19_48kHz.wav",
         "channelA_2024-05-27_21-48-19_48kHz.wav",
         "72",
         "75",
         "Whistle",
         "0.99994993",
         "[5.009893357055262e-05, 0.9999499320983887]"
        ],
        [
         "7119",
         "Downsampled AQUI TAMBIÉN/Tarifa 2 SYLENCE/BUENOS/channelA_2024-05-27_21-48-19_48kHz.wav",
         "channelA_2024-05-27_21-48-19_48kHz.wav",
         "81",
         "84",
         "Whistle",
         "0.9999932",
         "[6.8441863732005e-06, 0.9999932050704956]"
        ],
        [
         "7120",
         "Downsampled AQUI TAMBIÉN/Tarifa 2 SYLENCE/BUENOS/channelA_2024-05-27_21-48-19_48kHz.wav",
         "channelA_2024-05-27_21-48-19_48kHz.wav",
         "84",
         "87",
         "Whistle",
         "0.9907212",
         "[0.009278811514377594, 0.9907212257385254]"
        ],
        [
         "7121",
         "Downsampled AQUI TAMBIÉN/Tarifa 2 SYLENCE/BUENOS/channelA_2024-05-27_21-48-19_48kHz.wav",
         "channelA_2024-05-27_21-48-19_48kHz.wav",
         "87",
         "90",
         "Whistle",
         "0.56910855",
         "[0.43089136481285095, 0.5691085457801819]"
        ],
        [
         "7122",
         "Downsampled AQUI TAMBIÉN/Tarifa 2 SYLENCE/BUENOS/channelA_2024-05-27_21-48-19_48kHz.wav",
         "channelA_2024-05-27_21-48-19_48kHz.wav",
         "90",
         "93",
         "Whistle",
         "0.9386188",
         "[0.06138114631175995, 0.9386187791824341]"
        ],
        [
         "7127",
         "Downsampled AQUI TAMBIÉN/Tarifa 2 SYLENCE/BUENOS/channelA_2024-05-27_21-48-19_48kHz.wav",
         "channelA_2024-05-27_21-48-19_48kHz.wav",
         "105",
         "108",
         "Whistle",
         "0.9093441",
         "[0.09065590798854828, 0.9093440771102905]"
        ],
        [
         "7128",
         "Downsampled AQUI TAMBIÉN/Tarifa 2 SYLENCE/BUENOS/channelA_2024-05-27_21-48-19_48kHz.wav",
         "channelA_2024-05-27_21-48-19_48kHz.wav",
         "108",
         "111",
         "Whistle",
         "0.9758607",
         "[0.024139277637004852, 0.9758607149124146]"
        ],
        [
         "7129",
         "Downsampled AQUI TAMBIÉN/Tarifa 2 SYLENCE/BUENOS/channelA_2024-05-27_21-48-19_48kHz.wav",
         "channelA_2024-05-27_21-48-19_48kHz.wav",
         "111",
         "114",
         "Whistle",
         "0.99999046",
         "[9.527184374746867e-06, 0.9999904632568359]"
        ],
        [
         "7130",
         "Downsampled AQUI TAMBIÉN/Tarifa 2 SYLENCE/BUENOS/channelA_2024-05-27_21-48-19_48kHz.wav",
         "channelA_2024-05-27_21-48-19_48kHz.wav",
         "114",
         "117",
         "Whistle",
         "0.99992716",
         "[7.280856516445056e-05, 0.9999271631240845]"
        ],
        [
         "7132",
         "Downsampled AQUI TAMBIÉN/Tarifa 2 SYLENCE/BUENOS/channelA_2024-05-27_21-48-19_48kHz.wav",
         "channelA_2024-05-27_21-48-19_48kHz.wav",
         "120",
         "123",
         "Whistle",
         "0.53930587",
         "[0.4606941044330597, 0.5393058657646179]"
        ],
        [
         "7134",
         "Downsampled AQUI TAMBIÉN/Tarifa 2 SYLENCE/BUENOS/channelA_2024-05-27_21-48-19_48kHz.wav",
         "channelA_2024-05-27_21-48-19_48kHz.wav",
         "126",
         "129",
         "Whistle",
         "0.99993515",
         "[6.48788918624632e-05, 0.9999351501464844]"
        ],
        [
         "7136",
         "Downsampled AQUI TAMBIÉN/Tarifa 2 SYLENCE/BUENOS/channelA_2024-05-27_21-48-19_48kHz.wav",
         "channelA_2024-05-27_21-48-19_48kHz.wav",
         "132",
         "135",
         "Whistle",
         "0.84296435",
         "[0.15703566372394562, 0.8429643511772156]"
        ],
        [
         "7137",
         "Downsampled AQUI TAMBIÉN/Tarifa 2 SYLENCE/BUENOS/channelA_2024-05-27_21-48-19_48kHz.wav",
         "channelA_2024-05-27_21-48-19_48kHz.wav",
         "135",
         "138",
         "Whistle",
         "0.97949535",
         "[0.02050456590950489, 0.9794953465461731]"
        ],
        [
         "7139",
         "Downsampled AQUI TAMBIÉN/Tarifa 2 SYLENCE/BUENOS/channelA_2024-05-27_21-48-19_48kHz.wav",
         "channelA_2024-05-27_21-48-19_48kHz.wav",
         "141",
         "144",
         "Whistle",
         "0.9913436",
         "[0.008656387217342854, 0.99134361743927]"
        ],
        [
         "7140",
         "Downsampled AQUI TAMBIÉN/Tarifa 2 SYLENCE/BUENOS/channelA_2024-05-27_21-48-19_48kHz.wav",
         "channelA_2024-05-27_21-48-19_48kHz.wav",
         "144",
         "147",
         "Whistle",
         "0.99997973",
         "[2.0249261069693603e-05, 0.9999797344207764]"
        ],
        [
         "7141",
         "Downsampled AQUI TAMBIÉN/Tarifa 2 SYLENCE/BUENOS/channelA_2024-05-27_21-48-19_48kHz.wav",
         "channelA_2024-05-27_21-48-19_48kHz.wav",
         "147",
         "150",
         "Whistle",
         "0.9999956",
         "[4.44839906776906e-06, 0.9999955892562866]"
        ],
        [
         "7142",
         "Downsampled AQUI TAMBIÉN/Tarifa 2 SYLENCE/BUENOS/channelA_2024-05-27_21-48-19_48kHz.wav",
         "channelA_2024-05-27_21-48-19_48kHz.wav",
         "150",
         "153",
         "Whistle",
         "0.99998415",
         "[1.5894334865151905e-05, 0.9999841451644897]"
        ],
        [
         "7143",
         "Downsampled AQUI TAMBIÉN/Tarifa 2 SYLENCE/BUENOS/channelA_2024-05-27_21-48-19_48kHz.wav",
         "channelA_2024-05-27_21-48-19_48kHz.wav",
         "153",
         "156",
         "Whistle",
         "0.9999974",
         "[2.662151473487029e-06, 0.9999973773956299]"
        ],
        [
         "7144",
         "Downsampled AQUI TAMBIÉN/Tarifa 2 SYLENCE/BUENOS/channelA_2024-05-27_21-48-19_48kHz.wav",
         "channelA_2024-05-27_21-48-19_48kHz.wav",
         "156",
         "159",
         "Whistle",
         "0.9999881",
         "[1.190432067232905e-05, 0.9999880790710449]"
        ],
        [
         "7146",
         "Downsampled AQUI TAMBIÉN/Tarifa 2 SYLENCE/BUENOS/channelA_2024-05-27_21-48-19_48kHz.wav",
         "channelA_2024-05-27_21-48-19_48kHz.wav",
         "162",
         "165",
         "Whistle",
         "0.5763105",
         "[0.42368945479393005, 0.5763105154037476]"
        ],
        [
         "7147",
         "Downsampled AQUI TAMBIÉN/Tarifa 2 SYLENCE/BUENOS/channelA_2024-05-27_21-48-19_48kHz.wav",
         "channelA_2024-05-27_21-48-19_48kHz.wav",
         "165",
         "168",
         "Whistle",
         "0.8453367",
         "[0.1546632945537567, 0.8453366756439209]"
        ],
        [
         "7148",
         "Downsampled AQUI TAMBIÉN/Tarifa 2 SYLENCE/BUENOS/channelA_2024-05-27_21-48-19_48kHz.wav",
         "channelA_2024-05-27_21-48-19_48kHz.wav",
         "168",
         "171",
         "Whistle",
         "0.9992353",
         "[0.0007646821322850883, 0.9992352724075317]"
        ],
        [
         "7150",
         "Downsampled AQUI TAMBIÉN/Tarifa 2 SYLENCE/BUENOS/channelA_2024-05-27_21-48-19_48kHz.wav",
         "channelA_2024-05-27_21-48-19_48kHz.wav",
         "174",
         "177",
         "Whistle",
         "0.9177319",
         "[0.08226814866065979, 0.9177318811416626]"
        ],
        [
         "7151",
         "Downsampled AQUI TAMBIÉN/Tarifa 2 SYLENCE/BUENOS/channelA_2024-05-27_21-48-19_48kHz.wav",
         "channelA_2024-05-27_21-48-19_48kHz.wav",
         "177",
         "180",
         "Whistle",
         "0.9922162",
         "[0.007783738896250725, 0.9922162294387817]"
        ],
        [
         "7152",
         "Downsampled AQUI TAMBIÉN/Tarifa 2 SYLENCE/BUENOS/channelA_2024-05-27_21-48-19_48kHz.wav",
         "channelA_2024-05-27_21-48-19_48kHz.wav",
         "180",
         "183",
         "Whistle",
         "0.9973763",
         "[0.0026236975099891424, 0.9973763227462769]"
        ],
        [
         "7153",
         "Downsampled AQUI TAMBIÉN/Tarifa 2 SYLENCE/BUENOS/channelA_2024-05-27_21-48-19_48kHz.wav",
         "channelA_2024-05-27_21-48-19_48kHz.wav",
         "183",
         "186",
         "Whistle",
         "0.99855787",
         "[0.001442184206098318, 0.9985578656196594]"
        ],
        [
         "7154",
         "Downsampled AQUI TAMBIÉN/Tarifa 2 SYLENCE/BUENOS/channelA_2024-05-27_21-48-19_48kHz.wav",
         "channelA_2024-05-27_21-48-19_48kHz.wav",
         "186",
         "189",
         "Whistle",
         "0.9990594",
         "[0.0009406888857483864, 0.9990593791007996]"
        ],
        [
         "7155",
         "Downsampled AQUI TAMBIÉN/Tarifa 2 SYLENCE/BUENOS/channelA_2024-05-27_21-48-19_48kHz.wav",
         "channelA_2024-05-27_21-48-19_48kHz.wav",
         "189",
         "192",
         "Whistle",
         "0.9998406",
         "[0.00015941685705911368, 0.9998406171798706]"
        ],
        [
         "7156",
         "Downsampled AQUI TAMBIÉN/Tarifa 2 SYLENCE/BUENOS/channelA_2024-05-27_21-48-19_48kHz.wav",
         "channelA_2024-05-27_21-48-19_48kHz.wav",
         "192",
         "195",
         "Whistle",
         "0.8521345",
         "[0.14786551892757416, 0.8521345257759094]"
        ],
        [
         "7158",
         "Downsampled AQUI TAMBIÉN/Tarifa 2 SYLENCE/BUENOS/channelA_2024-05-27_21-48-19_48kHz.wav",
         "channelA_2024-05-27_21-48-19_48kHz.wav",
         "198",
         "201",
         "Whistle",
         "0.9583951",
         "[0.041604895144701004, 0.9583951234817505]"
        ],
        [
         "7165",
         "Downsampled AQUI TAMBIÉN/Tarifa 2 SYLENCE/BUENOS/channelA_2024-05-27_21-48-19_48kHz.wav",
         "channelA_2024-05-27_21-48-19_48kHz.wav",
         "219",
         "222",
         "Whistle",
         "0.96751493",
         "[0.03248506784439087, 0.9675149321556091]"
        ],
        [
         "7166",
         "Downsampled AQUI TAMBIÉN/Tarifa 2 SYLENCE/BUENOS/channelA_2024-05-27_21-48-19_48kHz.wav",
         "channelA_2024-05-27_21-48-19_48kHz.wav",
         "222",
         "225",
         "Whistle",
         "0.897157",
         "[0.10284304618835449, 0.8971570134162903]"
        ],
        [
         "7175",
         "Downsampled AQUI TAMBIÉN/Tarifa 2 SYLENCE/BUENOS/channelA_2024-05-27_21-48-19_48kHz.wav",
         "channelA_2024-05-27_21-48-19_48kHz.wav",
         "249",
         "252",
         "Whistle",
         "0.9996284",
         "[0.00037151097785681486, 0.9996284246444702]"
        ],
        [
         "11445",
         "Downsampled AQUI TAMBIÉN/Tarifa 2 SYLENCE/BUENOS/channelA_2024-05-28_01-21-47_48kHz.wav",
         "channelA_2024-05-28_01-21-47_48kHz.wav",
         "249",
         "252",
         "Whistle",
         "0.5609731",
         "[0.4390268325805664, 0.5609731078147888]"
        ],
        [
         "11453",
         "Downsampled AQUI TAMBIÉN/Tarifa 2 SYLENCE/BUENOS/channelA_2024-05-28_01-21-47_48kHz.wav",
         "channelA_2024-05-28_01-21-47_48kHz.wav",
         "273",
         "276",
         "Whistle",
         "0.90019727",
         "[0.09980273246765137, 0.9001972675323486]"
        ],
        [
         "11454",
         "Downsampled AQUI TAMBIÉN/Tarifa 2 SYLENCE/BUENOS/channelA_2024-05-28_01-21-47_48kHz.wav",
         "channelA_2024-05-28_01-21-47_48kHz.wav",
         "276",
         "279",
         "Whistle",
         "0.74121714",
         "[0.2587828040122986, 0.7412171363830566]"
        ],
        [
         "11464",
         "Downsampled AQUI TAMBIÉN/Tarifa 2 SYLENCE/BUENOS/channelA_2024-05-28_01-26-47_48kHz.wav",
         "channelA_2024-05-28_01-26-47_48kHz.wav",
         "6",
         "9",
         "Whistle",
         "0.94204456",
         "[0.05795550346374512, 0.9420445561408997]"
        ],
        [
         "11465",
         "Downsampled AQUI TAMBIÉN/Tarifa 2 SYLENCE/BUENOS/channelA_2024-05-28_01-26-47_48kHz.wav",
         "channelA_2024-05-28_01-26-47_48kHz.wav",
         "9",
         "12",
         "Whistle",
         "0.99999976",
         "[2.0985370952075755e-07, 0.9999997615814209]"
        ],
        [
         "11467",
         "Downsampled AQUI TAMBIÉN/Tarifa 2 SYLENCE/BUENOS/channelA_2024-05-28_01-26-47_48kHz.wav",
         "channelA_2024-05-28_01-26-47_48kHz.wav",
         "15",
         "18",
         "Whistle",
         "0.9940957",
         "[0.005904331803321838, 0.9940956830978394]"
        ],
        [
         "11469",
         "Downsampled AQUI TAMBIÉN/Tarifa 2 SYLENCE/BUENOS/channelA_2024-05-28_01-26-47_48kHz.wav",
         "channelA_2024-05-28_01-26-47_48kHz.wav",
         "21",
         "24",
         "Whistle",
         "0.7623898",
         "[0.23761028051376343, 0.7623897790908813]"
        ],
        [
         "11470",
         "Downsampled AQUI TAMBIÉN/Tarifa 2 SYLENCE/BUENOS/channelA_2024-05-28_01-26-47_48kHz.wav",
         "channelA_2024-05-28_01-26-47_48kHz.wav",
         "24",
         "27",
         "Whistle",
         "0.998995",
         "[0.0010049485135823488, 0.9989950060844421]"
        ],
        [
         "11471",
         "Downsampled AQUI TAMBIÉN/Tarifa 2 SYLENCE/BUENOS/channelA_2024-05-28_01-26-47_48kHz.wav",
         "channelA_2024-05-28_01-26-47_48kHz.wav",
         "27",
         "30",
         "Whistle",
         "0.9930577",
         "[0.006942312698811293, 0.9930577278137207]"
        ],
        [
         "11472",
         "Downsampled AQUI TAMBIÉN/Tarifa 2 SYLENCE/BUENOS/channelA_2024-05-28_01-26-47_48kHz.wav",
         "channelA_2024-05-28_01-26-47_48kHz.wav",
         "30",
         "33",
         "Whistle",
         "0.7066848",
         "[0.29331523180007935, 0.7066848278045654]"
        ],
        [
         "11473",
         "Downsampled AQUI TAMBIÉN/Tarifa 2 SYLENCE/BUENOS/channelA_2024-05-28_01-26-47_48kHz.wav",
         "channelA_2024-05-28_01-26-47_48kHz.wav",
         "33",
         "36",
         "Whistle",
         "0.60626155",
         "[0.3937384784221649, 0.6062615513801575]"
        ]
       ],
       "shape": {
        "columns": 7,
        "rows": 155
       }
      },
      "text/html": [
       "<div>\n",
       "<style scoped>\n",
       "    .dataframe tbody tr th:only-of-type {\n",
       "        vertical-align: middle;\n",
       "    }\n",
       "\n",
       "    .dataframe tbody tr th {\n",
       "        vertical-align: top;\n",
       "    }\n",
       "\n",
       "    .dataframe thead th {\n",
       "        text-align: right;\n",
       "    }\n",
       "</style>\n",
       "<table border=\"1\" class=\"dataframe\">\n",
       "  <thead>\n",
       "    <tr style=\"text-align: right;\">\n",
       "      <th></th>\n",
       "      <th>Path</th>\n",
       "      <th>Filename</th>\n",
       "      <th>StartSecond</th>\n",
       "      <th>EndSecond</th>\n",
       "      <th>MainClassification</th>\n",
       "      <th>ConfidenceScore</th>\n",
       "      <th>ConfidenceVector</th>\n",
       "    </tr>\n",
       "  </thead>\n",
       "  <tbody>\n",
       "    <tr>\n",
       "      <th>7088</th>\n",
       "      <td>Downsampled AQUI TAMBIÉN/Tarifa 2 SYLENCE/BUEN...</td>\n",
       "      <td>channelA_2024-05-27_21-43-19_48kHz.wav</td>\n",
       "      <td>288</td>\n",
       "      <td>291</td>\n",
       "      <td>Whistle</td>\n",
       "      <td>0.564021</td>\n",
       "      <td>[0.435978502035141, 0.5640214681625366]</td>\n",
       "    </tr>\n",
       "    <tr>\n",
       "      <th>7092</th>\n",
       "      <td>Downsampled AQUI TAMBIÉN/Tarifa 2 SYLENCE/BUEN...</td>\n",
       "      <td>channelA_2024-05-27_21-48-19_48kHz.wav</td>\n",
       "      <td>0</td>\n",
       "      <td>3</td>\n",
       "      <td>Whistle</td>\n",
       "      <td>0.978356</td>\n",
       "      <td>[0.02164352871477604, 0.9783564209938049]</td>\n",
       "    </tr>\n",
       "    <tr>\n",
       "      <th>7100</th>\n",
       "      <td>Downsampled AQUI TAMBIÉN/Tarifa 2 SYLENCE/BUEN...</td>\n",
       "      <td>channelA_2024-05-27_21-48-19_48kHz.wav</td>\n",
       "      <td>24</td>\n",
       "      <td>27</td>\n",
       "      <td>Whistle</td>\n",
       "      <td>0.559729</td>\n",
       "      <td>[0.4402709901332855, 0.5597289800643921]</td>\n",
       "    </tr>\n",
       "    <tr>\n",
       "      <th>7106</th>\n",
       "      <td>Downsampled AQUI TAMBIÉN/Tarifa 2 SYLENCE/BUEN...</td>\n",
       "      <td>channelA_2024-05-27_21-48-19_48kHz.wav</td>\n",
       "      <td>42</td>\n",
       "      <td>45</td>\n",
       "      <td>Whistle</td>\n",
       "      <td>0.999319</td>\n",
       "      <td>[0.0006812208448536694, 0.9993188381195068]</td>\n",
       "    </tr>\n",
       "    <tr>\n",
       "      <th>7108</th>\n",
       "      <td>Downsampled AQUI TAMBIÉN/Tarifa 2 SYLENCE/BUEN...</td>\n",
       "      <td>channelA_2024-05-27_21-48-19_48kHz.wav</td>\n",
       "      <td>48</td>\n",
       "      <td>51</td>\n",
       "      <td>Whistle</td>\n",
       "      <td>0.900744</td>\n",
       "      <td>[0.09925549477338791, 0.9007444381713867]</td>\n",
       "    </tr>\n",
       "    <tr>\n",
       "      <th>...</th>\n",
       "      <td>...</td>\n",
       "      <td>...</td>\n",
       "      <td>...</td>\n",
       "      <td>...</td>\n",
       "      <td>...</td>\n",
       "      <td>...</td>\n",
       "      <td>...</td>\n",
       "    </tr>\n",
       "    <tr>\n",
       "      <th>460971</th>\n",
       "      <td>Downsampled AQUI TAMBIÉN/Tarifa 2 SYLENCE/BUEN...</td>\n",
       "      <td>channelA_2024-06-12_16-00-33_48kHz.wav</td>\n",
       "      <td>108</td>\n",
       "      <td>111</td>\n",
       "      <td>Whistle</td>\n",
       "      <td>0.619309</td>\n",
       "      <td>[0.3806910216808319, 0.6193089485168457]</td>\n",
       "    </tr>\n",
       "    <tr>\n",
       "      <th>461244</th>\n",
       "      <td>Downsampled AQUI TAMBIÉN/Tarifa 2 SYLENCE/BUEN...</td>\n",
       "      <td>channelA_2024-06-12_16-15-33_48kHz.wav</td>\n",
       "      <td>27</td>\n",
       "      <td>30</td>\n",
       "      <td>Whistle</td>\n",
       "      <td>0.578439</td>\n",
       "      <td>[0.42156097292900085, 0.5784390568733215]</td>\n",
       "    </tr>\n",
       "    <tr>\n",
       "      <th>461247</th>\n",
       "      <td>Downsampled AQUI TAMBIÉN/Tarifa 2 SYLENCE/BUEN...</td>\n",
       "      <td>channelA_2024-06-12_16-15-33_48kHz.wav</td>\n",
       "      <td>36</td>\n",
       "      <td>39</td>\n",
       "      <td>Whistle</td>\n",
       "      <td>0.614954</td>\n",
       "      <td>[0.38504597544670105, 0.6149540543556213]</td>\n",
       "    </tr>\n",
       "    <tr>\n",
       "      <th>461249</th>\n",
       "      <td>Downsampled AQUI TAMBIÉN/Tarifa 2 SYLENCE/BUEN...</td>\n",
       "      <td>channelA_2024-06-12_16-15-33_48kHz.wav</td>\n",
       "      <td>42</td>\n",
       "      <td>45</td>\n",
       "      <td>Whistle</td>\n",
       "      <td>0.606559</td>\n",
       "      <td>[0.393441379070282, 0.606558620929718]</td>\n",
       "    </tr>\n",
       "    <tr>\n",
       "      <th>461257</th>\n",
       "      <td>Downsampled AQUI TAMBIÉN/Tarifa 2 SYLENCE/BUEN...</td>\n",
       "      <td>channelA_2024-06-12_16-15-33_48kHz.wav</td>\n",
       "      <td>66</td>\n",
       "      <td>69</td>\n",
       "      <td>Whistle</td>\n",
       "      <td>0.552018</td>\n",
       "      <td>[0.44798219203948975, 0.552017867565155]</td>\n",
       "    </tr>\n",
       "  </tbody>\n",
       "</table>\n",
       "<p>155 rows × 7 columns</p>\n",
       "</div>"
      ],
      "text/plain": [
       "                                                     Path  \\\n",
       "7088    Downsampled AQUI TAMBIÉN/Tarifa 2 SYLENCE/BUEN...   \n",
       "7092    Downsampled AQUI TAMBIÉN/Tarifa 2 SYLENCE/BUEN...   \n",
       "7100    Downsampled AQUI TAMBIÉN/Tarifa 2 SYLENCE/BUEN...   \n",
       "7106    Downsampled AQUI TAMBIÉN/Tarifa 2 SYLENCE/BUEN...   \n",
       "7108    Downsampled AQUI TAMBIÉN/Tarifa 2 SYLENCE/BUEN...   \n",
       "...                                                   ...   \n",
       "460971  Downsampled AQUI TAMBIÉN/Tarifa 2 SYLENCE/BUEN...   \n",
       "461244  Downsampled AQUI TAMBIÉN/Tarifa 2 SYLENCE/BUEN...   \n",
       "461247  Downsampled AQUI TAMBIÉN/Tarifa 2 SYLENCE/BUEN...   \n",
       "461249  Downsampled AQUI TAMBIÉN/Tarifa 2 SYLENCE/BUEN...   \n",
       "461257  Downsampled AQUI TAMBIÉN/Tarifa 2 SYLENCE/BUEN...   \n",
       "\n",
       "                                      Filename  StartSecond  EndSecond  \\\n",
       "7088    channelA_2024-05-27_21-43-19_48kHz.wav          288        291   \n",
       "7092    channelA_2024-05-27_21-48-19_48kHz.wav            0          3   \n",
       "7100    channelA_2024-05-27_21-48-19_48kHz.wav           24         27   \n",
       "7106    channelA_2024-05-27_21-48-19_48kHz.wav           42         45   \n",
       "7108    channelA_2024-05-27_21-48-19_48kHz.wav           48         51   \n",
       "...                                        ...          ...        ...   \n",
       "460971  channelA_2024-06-12_16-00-33_48kHz.wav          108        111   \n",
       "461244  channelA_2024-06-12_16-15-33_48kHz.wav           27         30   \n",
       "461247  channelA_2024-06-12_16-15-33_48kHz.wav           36         39   \n",
       "461249  channelA_2024-06-12_16-15-33_48kHz.wav           42         45   \n",
       "461257  channelA_2024-06-12_16-15-33_48kHz.wav           66         69   \n",
       "\n",
       "       MainClassification  ConfidenceScore  \\\n",
       "7088              Whistle         0.564021   \n",
       "7092              Whistle         0.978356   \n",
       "7100              Whistle         0.559729   \n",
       "7106              Whistle         0.999319   \n",
       "7108              Whistle         0.900744   \n",
       "...                   ...              ...   \n",
       "460971            Whistle         0.619309   \n",
       "461244            Whistle         0.578439   \n",
       "461247            Whistle         0.614954   \n",
       "461249            Whistle         0.606559   \n",
       "461257            Whistle         0.552018   \n",
       "\n",
       "                                   ConfidenceVector  \n",
       "7088        [0.435978502035141, 0.5640214681625366]  \n",
       "7092      [0.02164352871477604, 0.9783564209938049]  \n",
       "7100       [0.4402709901332855, 0.5597289800643921]  \n",
       "7106    [0.0006812208448536694, 0.9993188381195068]  \n",
       "7108      [0.09925549477338791, 0.9007444381713867]  \n",
       "...                                             ...  \n",
       "460971     [0.3806910216808319, 0.6193089485168457]  \n",
       "461244    [0.42156097292900085, 0.5784390568733215]  \n",
       "461247    [0.38504597544670105, 0.6149540543556213]  \n",
       "461249       [0.393441379070282, 0.606558620929718]  \n",
       "461257     [0.44798219203948975, 0.552017867565155]  \n",
       "\n",
       "[155 rows x 7 columns]"
      ]
     },
     "execution_count": 23,
     "metadata": {},
     "output_type": "execute_result"
    }
   ],
   "source": [
    "# df_no_background[\"Path\"] = df_no_background[\"Path\"].str.split(\"/mnt/e/\").str[1]\n",
    "df_no_background[\"Path\"] = df_no_background[\"Path\"].str.split(\"D:/\").str[1]\n",
    "df_no_background"
   ]
  },
  {
   "cell_type": "code",
   "execution_count": 24,
   "metadata": {},
   "outputs": [],
   "source": [
    "# save new csv without rows with background\n",
    "df_no_background.to_csv(f'../../../../../mnt/e/Deep Learning Analysis/Predictions/{PREDICTIONS}/predictions_no_background.csv', index=False)"
   ]
  },
  {
   "cell_type": "code",
   "execution_count": 25,
   "metadata": {},
   "outputs": [
    {
     "data": {
      "application/vnd.microsoft.datawrangler.viewer.v0+json": {
       "columns": [
        {
         "name": "index",
         "rawType": "int64",
         "type": "integer"
        },
        {
         "name": "Path",
         "rawType": "object",
         "type": "string"
        },
        {
         "name": "Filename",
         "rawType": "object",
         "type": "string"
        },
        {
         "name": "StartSecond",
         "rawType": "int64",
         "type": "integer"
        },
        {
         "name": "EndSecond",
         "rawType": "int64",
         "type": "integer"
        },
        {
         "name": "MainClassification",
         "rawType": "object",
         "type": "string"
        },
        {
         "name": "ConfidenceScore",
         "rawType": "float64",
         "type": "float"
        },
        {
         "name": "ConfidenceVector",
         "rawType": "object",
         "type": "string"
        }
       ],
       "conversionMethod": "pd.DataFrame",
       "ref": "7d153a07-0b2e-4af8-822c-6846e9f47c93",
       "rows": [
        [
         "7088",
         "D:/Downsampled AQUI TAMBIÉN/Tarifa 2 SYLENCE/BUENOS/channelA_2024-05-27_21-43-19_48kHz.wav",
         "channelA_2024-05-27_21-43-19_48kHz.wav",
         "288",
         "291",
         "Whistle",
         "0.56402147",
         "[0.435978502035141, 0.5640214681625366]"
        ],
        [
         "7092",
         "D:/Downsampled AQUI TAMBIÉN/Tarifa 2 SYLENCE/BUENOS/channelA_2024-05-27_21-48-19_48kHz.wav",
         "channelA_2024-05-27_21-48-19_48kHz.wav",
         "0",
         "3",
         "Whistle",
         "0.9783564",
         "[0.02164352871477604, 0.9783564209938049]"
        ],
        [
         "7100",
         "D:/Downsampled AQUI TAMBIÉN/Tarifa 2 SYLENCE/BUENOS/channelA_2024-05-27_21-48-19_48kHz.wav",
         "channelA_2024-05-27_21-48-19_48kHz.wav",
         "24",
         "27",
         "Whistle",
         "0.559729",
         "[0.4402709901332855, 0.5597289800643921]"
        ],
        [
         "7106",
         "D:/Downsampled AQUI TAMBIÉN/Tarifa 2 SYLENCE/BUENOS/channelA_2024-05-27_21-48-19_48kHz.wav",
         "channelA_2024-05-27_21-48-19_48kHz.wav",
         "42",
         "45",
         "Whistle",
         "0.99931884",
         "[0.0006812208448536694, 0.9993188381195068]"
        ],
        [
         "7108",
         "D:/Downsampled AQUI TAMBIÉN/Tarifa 2 SYLENCE/BUENOS/channelA_2024-05-27_21-48-19_48kHz.wav",
         "channelA_2024-05-27_21-48-19_48kHz.wav",
         "48",
         "51",
         "Whistle",
         "0.90074444",
         "[0.09925549477338791, 0.9007444381713867]"
        ],
        [
         "7109",
         "D:/Downsampled AQUI TAMBIÉN/Tarifa 2 SYLENCE/BUENOS/channelA_2024-05-27_21-48-19_48kHz.wav",
         "channelA_2024-05-27_21-48-19_48kHz.wav",
         "51",
         "54",
         "Whistle",
         "0.811521",
         "[0.18847902119159698, 0.8115209937095642]"
        ],
        [
         "7116",
         "D:/Downsampled AQUI TAMBIÉN/Tarifa 2 SYLENCE/BUENOS/channelA_2024-05-27_21-48-19_48kHz.wav",
         "channelA_2024-05-27_21-48-19_48kHz.wav",
         "72",
         "75",
         "Whistle",
         "0.99994993",
         "[5.009893357055262e-05, 0.9999499320983887]"
        ],
        [
         "7119",
         "D:/Downsampled AQUI TAMBIÉN/Tarifa 2 SYLENCE/BUENOS/channelA_2024-05-27_21-48-19_48kHz.wav",
         "channelA_2024-05-27_21-48-19_48kHz.wav",
         "81",
         "84",
         "Whistle",
         "0.9999932",
         "[6.8441863732005e-06, 0.9999932050704956]"
        ],
        [
         "7120",
         "D:/Downsampled AQUI TAMBIÉN/Tarifa 2 SYLENCE/BUENOS/channelA_2024-05-27_21-48-19_48kHz.wav",
         "channelA_2024-05-27_21-48-19_48kHz.wav",
         "84",
         "87",
         "Whistle",
         "0.9907212",
         "[0.009278811514377594, 0.9907212257385254]"
        ],
        [
         "7121",
         "D:/Downsampled AQUI TAMBIÉN/Tarifa 2 SYLENCE/BUENOS/channelA_2024-05-27_21-48-19_48kHz.wav",
         "channelA_2024-05-27_21-48-19_48kHz.wav",
         "87",
         "90",
         "Whistle",
         "0.56910855",
         "[0.43089136481285095, 0.5691085457801819]"
        ],
        [
         "7122",
         "D:/Downsampled AQUI TAMBIÉN/Tarifa 2 SYLENCE/BUENOS/channelA_2024-05-27_21-48-19_48kHz.wav",
         "channelA_2024-05-27_21-48-19_48kHz.wav",
         "90",
         "93",
         "Whistle",
         "0.9386188",
         "[0.06138114631175995, 0.9386187791824341]"
        ],
        [
         "7127",
         "D:/Downsampled AQUI TAMBIÉN/Tarifa 2 SYLENCE/BUENOS/channelA_2024-05-27_21-48-19_48kHz.wav",
         "channelA_2024-05-27_21-48-19_48kHz.wav",
         "105",
         "108",
         "Whistle",
         "0.9093441",
         "[0.09065590798854828, 0.9093440771102905]"
        ],
        [
         "7128",
         "D:/Downsampled AQUI TAMBIÉN/Tarifa 2 SYLENCE/BUENOS/channelA_2024-05-27_21-48-19_48kHz.wav",
         "channelA_2024-05-27_21-48-19_48kHz.wav",
         "108",
         "111",
         "Whistle",
         "0.9758607",
         "[0.024139277637004852, 0.9758607149124146]"
        ],
        [
         "7129",
         "D:/Downsampled AQUI TAMBIÉN/Tarifa 2 SYLENCE/BUENOS/channelA_2024-05-27_21-48-19_48kHz.wav",
         "channelA_2024-05-27_21-48-19_48kHz.wav",
         "111",
         "114",
         "Whistle",
         "0.99999046",
         "[9.527184374746867e-06, 0.9999904632568359]"
        ],
        [
         "7130",
         "D:/Downsampled AQUI TAMBIÉN/Tarifa 2 SYLENCE/BUENOS/channelA_2024-05-27_21-48-19_48kHz.wav",
         "channelA_2024-05-27_21-48-19_48kHz.wav",
         "114",
         "117",
         "Whistle",
         "0.99992716",
         "[7.280856516445056e-05, 0.9999271631240845]"
        ],
        [
         "7132",
         "D:/Downsampled AQUI TAMBIÉN/Tarifa 2 SYLENCE/BUENOS/channelA_2024-05-27_21-48-19_48kHz.wav",
         "channelA_2024-05-27_21-48-19_48kHz.wav",
         "120",
         "123",
         "Whistle",
         "0.53930587",
         "[0.4606941044330597, 0.5393058657646179]"
        ],
        [
         "7134",
         "D:/Downsampled AQUI TAMBIÉN/Tarifa 2 SYLENCE/BUENOS/channelA_2024-05-27_21-48-19_48kHz.wav",
         "channelA_2024-05-27_21-48-19_48kHz.wav",
         "126",
         "129",
         "Whistle",
         "0.99993515",
         "[6.48788918624632e-05, 0.9999351501464844]"
        ],
        [
         "7136",
         "D:/Downsampled AQUI TAMBIÉN/Tarifa 2 SYLENCE/BUENOS/channelA_2024-05-27_21-48-19_48kHz.wav",
         "channelA_2024-05-27_21-48-19_48kHz.wav",
         "132",
         "135",
         "Whistle",
         "0.84296435",
         "[0.15703566372394562, 0.8429643511772156]"
        ],
        [
         "7137",
         "D:/Downsampled AQUI TAMBIÉN/Tarifa 2 SYLENCE/BUENOS/channelA_2024-05-27_21-48-19_48kHz.wav",
         "channelA_2024-05-27_21-48-19_48kHz.wav",
         "135",
         "138",
         "Whistle",
         "0.97949535",
         "[0.02050456590950489, 0.9794953465461731]"
        ],
        [
         "7139",
         "D:/Downsampled AQUI TAMBIÉN/Tarifa 2 SYLENCE/BUENOS/channelA_2024-05-27_21-48-19_48kHz.wav",
         "channelA_2024-05-27_21-48-19_48kHz.wav",
         "141",
         "144",
         "Whistle",
         "0.9913436",
         "[0.008656387217342854, 0.99134361743927]"
        ],
        [
         "7140",
         "D:/Downsampled AQUI TAMBIÉN/Tarifa 2 SYLENCE/BUENOS/channelA_2024-05-27_21-48-19_48kHz.wav",
         "channelA_2024-05-27_21-48-19_48kHz.wav",
         "144",
         "147",
         "Whistle",
         "0.99997973",
         "[2.0249261069693603e-05, 0.9999797344207764]"
        ],
        [
         "7141",
         "D:/Downsampled AQUI TAMBIÉN/Tarifa 2 SYLENCE/BUENOS/channelA_2024-05-27_21-48-19_48kHz.wav",
         "channelA_2024-05-27_21-48-19_48kHz.wav",
         "147",
         "150",
         "Whistle",
         "0.9999956",
         "[4.44839906776906e-06, 0.9999955892562866]"
        ],
        [
         "7142",
         "D:/Downsampled AQUI TAMBIÉN/Tarifa 2 SYLENCE/BUENOS/channelA_2024-05-27_21-48-19_48kHz.wav",
         "channelA_2024-05-27_21-48-19_48kHz.wav",
         "150",
         "153",
         "Whistle",
         "0.99998415",
         "[1.5894334865151905e-05, 0.9999841451644897]"
        ],
        [
         "7143",
         "D:/Downsampled AQUI TAMBIÉN/Tarifa 2 SYLENCE/BUENOS/channelA_2024-05-27_21-48-19_48kHz.wav",
         "channelA_2024-05-27_21-48-19_48kHz.wav",
         "153",
         "156",
         "Whistle",
         "0.9999974",
         "[2.662151473487029e-06, 0.9999973773956299]"
        ],
        [
         "7144",
         "D:/Downsampled AQUI TAMBIÉN/Tarifa 2 SYLENCE/BUENOS/channelA_2024-05-27_21-48-19_48kHz.wav",
         "channelA_2024-05-27_21-48-19_48kHz.wav",
         "156",
         "159",
         "Whistle",
         "0.9999881",
         "[1.190432067232905e-05, 0.9999880790710449]"
        ],
        [
         "7146",
         "D:/Downsampled AQUI TAMBIÉN/Tarifa 2 SYLENCE/BUENOS/channelA_2024-05-27_21-48-19_48kHz.wav",
         "channelA_2024-05-27_21-48-19_48kHz.wav",
         "162",
         "165",
         "Whistle",
         "0.5763105",
         "[0.42368945479393005, 0.5763105154037476]"
        ],
        [
         "7147",
         "D:/Downsampled AQUI TAMBIÉN/Tarifa 2 SYLENCE/BUENOS/channelA_2024-05-27_21-48-19_48kHz.wav",
         "channelA_2024-05-27_21-48-19_48kHz.wav",
         "165",
         "168",
         "Whistle",
         "0.8453367",
         "[0.1546632945537567, 0.8453366756439209]"
        ],
        [
         "7148",
         "D:/Downsampled AQUI TAMBIÉN/Tarifa 2 SYLENCE/BUENOS/channelA_2024-05-27_21-48-19_48kHz.wav",
         "channelA_2024-05-27_21-48-19_48kHz.wav",
         "168",
         "171",
         "Whistle",
         "0.9992353",
         "[0.0007646821322850883, 0.9992352724075317]"
        ],
        [
         "7150",
         "D:/Downsampled AQUI TAMBIÉN/Tarifa 2 SYLENCE/BUENOS/channelA_2024-05-27_21-48-19_48kHz.wav",
         "channelA_2024-05-27_21-48-19_48kHz.wav",
         "174",
         "177",
         "Whistle",
         "0.9177319",
         "[0.08226814866065979, 0.9177318811416626]"
        ],
        [
         "7151",
         "D:/Downsampled AQUI TAMBIÉN/Tarifa 2 SYLENCE/BUENOS/channelA_2024-05-27_21-48-19_48kHz.wav",
         "channelA_2024-05-27_21-48-19_48kHz.wav",
         "177",
         "180",
         "Whistle",
         "0.9922162",
         "[0.007783738896250725, 0.9922162294387817]"
        ],
        [
         "7152",
         "D:/Downsampled AQUI TAMBIÉN/Tarifa 2 SYLENCE/BUENOS/channelA_2024-05-27_21-48-19_48kHz.wav",
         "channelA_2024-05-27_21-48-19_48kHz.wav",
         "180",
         "183",
         "Whistle",
         "0.9973763",
         "[0.0026236975099891424, 0.9973763227462769]"
        ],
        [
         "7153",
         "D:/Downsampled AQUI TAMBIÉN/Tarifa 2 SYLENCE/BUENOS/channelA_2024-05-27_21-48-19_48kHz.wav",
         "channelA_2024-05-27_21-48-19_48kHz.wav",
         "183",
         "186",
         "Whistle",
         "0.99855787",
         "[0.001442184206098318, 0.9985578656196594]"
        ],
        [
         "7154",
         "D:/Downsampled AQUI TAMBIÉN/Tarifa 2 SYLENCE/BUENOS/channelA_2024-05-27_21-48-19_48kHz.wav",
         "channelA_2024-05-27_21-48-19_48kHz.wav",
         "186",
         "189",
         "Whistle",
         "0.9990594",
         "[0.0009406888857483864, 0.9990593791007996]"
        ],
        [
         "7155",
         "D:/Downsampled AQUI TAMBIÉN/Tarifa 2 SYLENCE/BUENOS/channelA_2024-05-27_21-48-19_48kHz.wav",
         "channelA_2024-05-27_21-48-19_48kHz.wav",
         "189",
         "192",
         "Whistle",
         "0.9998406",
         "[0.00015941685705911368, 0.9998406171798706]"
        ],
        [
         "7156",
         "D:/Downsampled AQUI TAMBIÉN/Tarifa 2 SYLENCE/BUENOS/channelA_2024-05-27_21-48-19_48kHz.wav",
         "channelA_2024-05-27_21-48-19_48kHz.wav",
         "192",
         "195",
         "Whistle",
         "0.8521345",
         "[0.14786551892757416, 0.8521345257759094]"
        ],
        [
         "7158",
         "D:/Downsampled AQUI TAMBIÉN/Tarifa 2 SYLENCE/BUENOS/channelA_2024-05-27_21-48-19_48kHz.wav",
         "channelA_2024-05-27_21-48-19_48kHz.wav",
         "198",
         "201",
         "Whistle",
         "0.9583951",
         "[0.041604895144701004, 0.9583951234817505]"
        ],
        [
         "7165",
         "D:/Downsampled AQUI TAMBIÉN/Tarifa 2 SYLENCE/BUENOS/channelA_2024-05-27_21-48-19_48kHz.wav",
         "channelA_2024-05-27_21-48-19_48kHz.wav",
         "219",
         "222",
         "Whistle",
         "0.96751493",
         "[0.03248506784439087, 0.9675149321556091]"
        ],
        [
         "7166",
         "D:/Downsampled AQUI TAMBIÉN/Tarifa 2 SYLENCE/BUENOS/channelA_2024-05-27_21-48-19_48kHz.wav",
         "channelA_2024-05-27_21-48-19_48kHz.wav",
         "222",
         "225",
         "Whistle",
         "0.897157",
         "[0.10284304618835449, 0.8971570134162903]"
        ],
        [
         "7175",
         "D:/Downsampled AQUI TAMBIÉN/Tarifa 2 SYLENCE/BUENOS/channelA_2024-05-27_21-48-19_48kHz.wav",
         "channelA_2024-05-27_21-48-19_48kHz.wav",
         "249",
         "252",
         "Whistle",
         "0.9996284",
         "[0.00037151097785681486, 0.9996284246444702]"
        ],
        [
         "11445",
         "D:/Downsampled AQUI TAMBIÉN/Tarifa 2 SYLENCE/BUENOS/channelA_2024-05-28_01-21-47_48kHz.wav",
         "channelA_2024-05-28_01-21-47_48kHz.wav",
         "249",
         "252",
         "Whistle",
         "0.5609731",
         "[0.4390268325805664, 0.5609731078147888]"
        ],
        [
         "11453",
         "D:/Downsampled AQUI TAMBIÉN/Tarifa 2 SYLENCE/BUENOS/channelA_2024-05-28_01-21-47_48kHz.wav",
         "channelA_2024-05-28_01-21-47_48kHz.wav",
         "273",
         "276",
         "Whistle",
         "0.90019727",
         "[0.09980273246765137, 0.9001972675323486]"
        ],
        [
         "11454",
         "D:/Downsampled AQUI TAMBIÉN/Tarifa 2 SYLENCE/BUENOS/channelA_2024-05-28_01-21-47_48kHz.wav",
         "channelA_2024-05-28_01-21-47_48kHz.wav",
         "276",
         "279",
         "Whistle",
         "0.74121714",
         "[0.2587828040122986, 0.7412171363830566]"
        ],
        [
         "11464",
         "D:/Downsampled AQUI TAMBIÉN/Tarifa 2 SYLENCE/BUENOS/channelA_2024-05-28_01-26-47_48kHz.wav",
         "channelA_2024-05-28_01-26-47_48kHz.wav",
         "6",
         "9",
         "Whistle",
         "0.94204456",
         "[0.05795550346374512, 0.9420445561408997]"
        ],
        [
         "11465",
         "D:/Downsampled AQUI TAMBIÉN/Tarifa 2 SYLENCE/BUENOS/channelA_2024-05-28_01-26-47_48kHz.wav",
         "channelA_2024-05-28_01-26-47_48kHz.wav",
         "9",
         "12",
         "Whistle",
         "0.99999976",
         "[2.0985370952075755e-07, 0.9999997615814209]"
        ],
        [
         "11467",
         "D:/Downsampled AQUI TAMBIÉN/Tarifa 2 SYLENCE/BUENOS/channelA_2024-05-28_01-26-47_48kHz.wav",
         "channelA_2024-05-28_01-26-47_48kHz.wav",
         "15",
         "18",
         "Whistle",
         "0.9940957",
         "[0.005904331803321838, 0.9940956830978394]"
        ],
        [
         "11469",
         "D:/Downsampled AQUI TAMBIÉN/Tarifa 2 SYLENCE/BUENOS/channelA_2024-05-28_01-26-47_48kHz.wav",
         "channelA_2024-05-28_01-26-47_48kHz.wav",
         "21",
         "24",
         "Whistle",
         "0.7623898",
         "[0.23761028051376343, 0.7623897790908813]"
        ],
        [
         "11470",
         "D:/Downsampled AQUI TAMBIÉN/Tarifa 2 SYLENCE/BUENOS/channelA_2024-05-28_01-26-47_48kHz.wav",
         "channelA_2024-05-28_01-26-47_48kHz.wav",
         "24",
         "27",
         "Whistle",
         "0.998995",
         "[0.0010049485135823488, 0.9989950060844421]"
        ],
        [
         "11471",
         "D:/Downsampled AQUI TAMBIÉN/Tarifa 2 SYLENCE/BUENOS/channelA_2024-05-28_01-26-47_48kHz.wav",
         "channelA_2024-05-28_01-26-47_48kHz.wav",
         "27",
         "30",
         "Whistle",
         "0.9930577",
         "[0.006942312698811293, 0.9930577278137207]"
        ],
        [
         "11472",
         "D:/Downsampled AQUI TAMBIÉN/Tarifa 2 SYLENCE/BUENOS/channelA_2024-05-28_01-26-47_48kHz.wav",
         "channelA_2024-05-28_01-26-47_48kHz.wav",
         "30",
         "33",
         "Whistle",
         "0.7066848",
         "[0.29331523180007935, 0.7066848278045654]"
        ],
        [
         "11473",
         "D:/Downsampled AQUI TAMBIÉN/Tarifa 2 SYLENCE/BUENOS/channelA_2024-05-28_01-26-47_48kHz.wav",
         "channelA_2024-05-28_01-26-47_48kHz.wav",
         "33",
         "36",
         "Whistle",
         "0.60626155",
         "[0.3937384784221649, 0.6062615513801575]"
        ]
       ],
       "shape": {
        "columns": 7,
        "rows": 155
       }
      },
      "text/html": [
       "<div>\n",
       "<style scoped>\n",
       "    .dataframe tbody tr th:only-of-type {\n",
       "        vertical-align: middle;\n",
       "    }\n",
       "\n",
       "    .dataframe tbody tr th {\n",
       "        vertical-align: top;\n",
       "    }\n",
       "\n",
       "    .dataframe thead th {\n",
       "        text-align: right;\n",
       "    }\n",
       "</style>\n",
       "<table border=\"1\" class=\"dataframe\">\n",
       "  <thead>\n",
       "    <tr style=\"text-align: right;\">\n",
       "      <th></th>\n",
       "      <th>Path</th>\n",
       "      <th>Filename</th>\n",
       "      <th>StartSecond</th>\n",
       "      <th>EndSecond</th>\n",
       "      <th>MainClassification</th>\n",
       "      <th>ConfidenceScore</th>\n",
       "      <th>ConfidenceVector</th>\n",
       "    </tr>\n",
       "  </thead>\n",
       "  <tbody>\n",
       "    <tr>\n",
       "      <th>7088</th>\n",
       "      <td>D:/Downsampled AQUI TAMBIÉN/Tarifa 2 SYLENCE/B...</td>\n",
       "      <td>channelA_2024-05-27_21-43-19_48kHz.wav</td>\n",
       "      <td>288</td>\n",
       "      <td>291</td>\n",
       "      <td>Whistle</td>\n",
       "      <td>0.564021</td>\n",
       "      <td>[0.435978502035141, 0.5640214681625366]</td>\n",
       "    </tr>\n",
       "    <tr>\n",
       "      <th>7092</th>\n",
       "      <td>D:/Downsampled AQUI TAMBIÉN/Tarifa 2 SYLENCE/B...</td>\n",
       "      <td>channelA_2024-05-27_21-48-19_48kHz.wav</td>\n",
       "      <td>0</td>\n",
       "      <td>3</td>\n",
       "      <td>Whistle</td>\n",
       "      <td>0.978356</td>\n",
       "      <td>[0.02164352871477604, 0.9783564209938049]</td>\n",
       "    </tr>\n",
       "    <tr>\n",
       "      <th>7100</th>\n",
       "      <td>D:/Downsampled AQUI TAMBIÉN/Tarifa 2 SYLENCE/B...</td>\n",
       "      <td>channelA_2024-05-27_21-48-19_48kHz.wav</td>\n",
       "      <td>24</td>\n",
       "      <td>27</td>\n",
       "      <td>Whistle</td>\n",
       "      <td>0.559729</td>\n",
       "      <td>[0.4402709901332855, 0.5597289800643921]</td>\n",
       "    </tr>\n",
       "    <tr>\n",
       "      <th>7106</th>\n",
       "      <td>D:/Downsampled AQUI TAMBIÉN/Tarifa 2 SYLENCE/B...</td>\n",
       "      <td>channelA_2024-05-27_21-48-19_48kHz.wav</td>\n",
       "      <td>42</td>\n",
       "      <td>45</td>\n",
       "      <td>Whistle</td>\n",
       "      <td>0.999319</td>\n",
       "      <td>[0.0006812208448536694, 0.9993188381195068]</td>\n",
       "    </tr>\n",
       "    <tr>\n",
       "      <th>7108</th>\n",
       "      <td>D:/Downsampled AQUI TAMBIÉN/Tarifa 2 SYLENCE/B...</td>\n",
       "      <td>channelA_2024-05-27_21-48-19_48kHz.wav</td>\n",
       "      <td>48</td>\n",
       "      <td>51</td>\n",
       "      <td>Whistle</td>\n",
       "      <td>0.900744</td>\n",
       "      <td>[0.09925549477338791, 0.9007444381713867]</td>\n",
       "    </tr>\n",
       "    <tr>\n",
       "      <th>...</th>\n",
       "      <td>...</td>\n",
       "      <td>...</td>\n",
       "      <td>...</td>\n",
       "      <td>...</td>\n",
       "      <td>...</td>\n",
       "      <td>...</td>\n",
       "      <td>...</td>\n",
       "    </tr>\n",
       "    <tr>\n",
       "      <th>460971</th>\n",
       "      <td>D:/Downsampled AQUI TAMBIÉN/Tarifa 2 SYLENCE/B...</td>\n",
       "      <td>channelA_2024-06-12_16-00-33_48kHz.wav</td>\n",
       "      <td>108</td>\n",
       "      <td>111</td>\n",
       "      <td>Whistle</td>\n",
       "      <td>0.619309</td>\n",
       "      <td>[0.3806910216808319, 0.6193089485168457]</td>\n",
       "    </tr>\n",
       "    <tr>\n",
       "      <th>461244</th>\n",
       "      <td>D:/Downsampled AQUI TAMBIÉN/Tarifa 2 SYLENCE/B...</td>\n",
       "      <td>channelA_2024-06-12_16-15-33_48kHz.wav</td>\n",
       "      <td>27</td>\n",
       "      <td>30</td>\n",
       "      <td>Whistle</td>\n",
       "      <td>0.578439</td>\n",
       "      <td>[0.42156097292900085, 0.5784390568733215]</td>\n",
       "    </tr>\n",
       "    <tr>\n",
       "      <th>461247</th>\n",
       "      <td>D:/Downsampled AQUI TAMBIÉN/Tarifa 2 SYLENCE/B...</td>\n",
       "      <td>channelA_2024-06-12_16-15-33_48kHz.wav</td>\n",
       "      <td>36</td>\n",
       "      <td>39</td>\n",
       "      <td>Whistle</td>\n",
       "      <td>0.614954</td>\n",
       "      <td>[0.38504597544670105, 0.6149540543556213]</td>\n",
       "    </tr>\n",
       "    <tr>\n",
       "      <th>461249</th>\n",
       "      <td>D:/Downsampled AQUI TAMBIÉN/Tarifa 2 SYLENCE/B...</td>\n",
       "      <td>channelA_2024-06-12_16-15-33_48kHz.wav</td>\n",
       "      <td>42</td>\n",
       "      <td>45</td>\n",
       "      <td>Whistle</td>\n",
       "      <td>0.606559</td>\n",
       "      <td>[0.393441379070282, 0.606558620929718]</td>\n",
       "    </tr>\n",
       "    <tr>\n",
       "      <th>461257</th>\n",
       "      <td>D:/Downsampled AQUI TAMBIÉN/Tarifa 2 SYLENCE/B...</td>\n",
       "      <td>channelA_2024-06-12_16-15-33_48kHz.wav</td>\n",
       "      <td>66</td>\n",
       "      <td>69</td>\n",
       "      <td>Whistle</td>\n",
       "      <td>0.552018</td>\n",
       "      <td>[0.44798219203948975, 0.552017867565155]</td>\n",
       "    </tr>\n",
       "  </tbody>\n",
       "</table>\n",
       "<p>155 rows × 7 columns</p>\n",
       "</div>"
      ],
      "text/plain": [
       "                                                     Path  \\\n",
       "7088    D:/Downsampled AQUI TAMBIÉN/Tarifa 2 SYLENCE/B...   \n",
       "7092    D:/Downsampled AQUI TAMBIÉN/Tarifa 2 SYLENCE/B...   \n",
       "7100    D:/Downsampled AQUI TAMBIÉN/Tarifa 2 SYLENCE/B...   \n",
       "7106    D:/Downsampled AQUI TAMBIÉN/Tarifa 2 SYLENCE/B...   \n",
       "7108    D:/Downsampled AQUI TAMBIÉN/Tarifa 2 SYLENCE/B...   \n",
       "...                                                   ...   \n",
       "460971  D:/Downsampled AQUI TAMBIÉN/Tarifa 2 SYLENCE/B...   \n",
       "461244  D:/Downsampled AQUI TAMBIÉN/Tarifa 2 SYLENCE/B...   \n",
       "461247  D:/Downsampled AQUI TAMBIÉN/Tarifa 2 SYLENCE/B...   \n",
       "461249  D:/Downsampled AQUI TAMBIÉN/Tarifa 2 SYLENCE/B...   \n",
       "461257  D:/Downsampled AQUI TAMBIÉN/Tarifa 2 SYLENCE/B...   \n",
       "\n",
       "                                      Filename  StartSecond  EndSecond  \\\n",
       "7088    channelA_2024-05-27_21-43-19_48kHz.wav          288        291   \n",
       "7092    channelA_2024-05-27_21-48-19_48kHz.wav            0          3   \n",
       "7100    channelA_2024-05-27_21-48-19_48kHz.wav           24         27   \n",
       "7106    channelA_2024-05-27_21-48-19_48kHz.wav           42         45   \n",
       "7108    channelA_2024-05-27_21-48-19_48kHz.wav           48         51   \n",
       "...                                        ...          ...        ...   \n",
       "460971  channelA_2024-06-12_16-00-33_48kHz.wav          108        111   \n",
       "461244  channelA_2024-06-12_16-15-33_48kHz.wav           27         30   \n",
       "461247  channelA_2024-06-12_16-15-33_48kHz.wav           36         39   \n",
       "461249  channelA_2024-06-12_16-15-33_48kHz.wav           42         45   \n",
       "461257  channelA_2024-06-12_16-15-33_48kHz.wav           66         69   \n",
       "\n",
       "       MainClassification  ConfidenceScore  \\\n",
       "7088              Whistle         0.564021   \n",
       "7092              Whistle         0.978356   \n",
       "7100              Whistle         0.559729   \n",
       "7106              Whistle         0.999319   \n",
       "7108              Whistle         0.900744   \n",
       "...                   ...              ...   \n",
       "460971            Whistle         0.619309   \n",
       "461244            Whistle         0.578439   \n",
       "461247            Whistle         0.614954   \n",
       "461249            Whistle         0.606559   \n",
       "461257            Whistle         0.552018   \n",
       "\n",
       "                                   ConfidenceVector  \n",
       "7088        [0.435978502035141, 0.5640214681625366]  \n",
       "7092      [0.02164352871477604, 0.9783564209938049]  \n",
       "7100       [0.4402709901332855, 0.5597289800643921]  \n",
       "7106    [0.0006812208448536694, 0.9993188381195068]  \n",
       "7108      [0.09925549477338791, 0.9007444381713867]  \n",
       "...                                             ...  \n",
       "460971     [0.3806910216808319, 0.6193089485168457]  \n",
       "461244    [0.42156097292900085, 0.5784390568733215]  \n",
       "461247    [0.38504597544670105, 0.6149540543556213]  \n",
       "461249       [0.393441379070282, 0.606558620929718]  \n",
       "461257     [0.44798219203948975, 0.552017867565155]  \n",
       "\n",
       "[155 rows x 7 columns]"
      ]
     },
     "execution_count": 25,
     "metadata": {},
     "output_type": "execute_result"
    }
   ],
   "source": [
    "df[df[\"MainClassification\"] == \"Whistle\"]"
   ]
  }
 ],
 "metadata": {
  "kernelspec": {
   "display_name": "BirdNET",
   "language": "python",
   "name": "python3"
  },
  "language_info": {
   "codemirror_mode": {
    "name": "ipython",
    "version": 3
   },
   "file_extension": ".py",
   "mimetype": "text/x-python",
   "name": "python",
   "nbconvert_exporter": "python",
   "pygments_lexer": "ipython3",
   "version": "3.10.13"
  }
 },
 "nbformat": 4,
 "nbformat_minor": 2
}
