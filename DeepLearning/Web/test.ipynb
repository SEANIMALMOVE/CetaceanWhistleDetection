{
 "cells": [
  {
   "cell_type": "code",
   "execution_count": 6,
   "metadata": {},
   "outputs": [
    {
     "name": "stdout",
     "output_type": "stream",
     "text": [
      "assets\t       fingerprint.pb\t  saved_model.pb    variables\n",
      "best_model.h5  keras_metadata.pb  training_log.csv\n"
     ]
    }
   ],
   "source": [
    "!ls ../BirdNET/Models/0_WatkinsMarineMammals_Base/"
   ]
  }
 ],
 "metadata": {
  "kernelspec": {
   "display_name": "BirdNET",
   "language": "python",
   "name": "python3"
  },
  "language_info": {
   "codemirror_mode": {
    "name": "ipython",
    "version": 3
   },
   "file_extension": ".py",
   "mimetype": "text/x-python",
   "name": "python",
   "nbconvert_exporter": "python",
   "pygments_lexer": "ipython3",
   "version": "3.10.13"
  }
 },
 "nbformat": 4,
 "nbformat_minor": 2
}
