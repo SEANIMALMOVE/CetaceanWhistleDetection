{
 "cells": [
  {
   "cell_type": "markdown",
   "metadata": {},
   "source": [
    "# Import necessary libraries\n"
   ]
  },
  {
   "cell_type": "code",
   "execution_count": 1,
   "metadata": {},
   "outputs": [
    {
     "name": "stderr",
     "output_type": "stream",
     "text": [
      "2024-11-14 10:54:45.182770: I external/local_tsl/tsl/cuda/cudart_stub.cc:31] Could not find cuda drivers on your machine, GPU will not be used.\n",
      "2024-11-14 10:54:45.348774: E external/local_xla/xla/stream_executor/cuda/cuda_dnn.cc:9261] Unable to register cuDNN factory: Attempting to register factory for plugin cuDNN when one has already been registered\n",
      "2024-11-14 10:54:45.348829: E external/local_xla/xla/stream_executor/cuda/cuda_fft.cc:607] Unable to register cuFFT factory: Attempting to register factory for plugin cuFFT when one has already been registered\n",
      "2024-11-14 10:54:45.379114: E external/local_xla/xla/stream_executor/cuda/cuda_blas.cc:1515] Unable to register cuBLAS factory: Attempting to register factory for plugin cuBLAS when one has already been registered\n",
      "2024-11-14 10:54:45.446091: I external/local_tsl/tsl/cuda/cudart_stub.cc:31] Could not find cuda drivers on your machine, GPU will not be used.\n",
      "2024-11-14 10:54:45.447484: I tensorflow/core/platform/cpu_feature_guard.cc:182] This TensorFlow binary is optimized to use available CPU instructions in performance-critical operations.\n",
      "To enable the following instructions: AVX2 FMA, in other operations, rebuild TensorFlow with the appropriate compiler flags.\n",
      "2024-11-14 10:54:46.446683: W tensorflow/compiler/tf2tensorrt/utils/py_utils.cc:38] TF-TRT Warning: Could not find TensorRT\n"
     ]
    }
   ],
   "source": [
    "import tensorflow as tf\n",
    "import numpy as np\n",
    "import os"
   ]
  },
  {
   "cell_type": "code",
   "execution_count": 6,
   "metadata": {},
   "outputs": [
    {
     "name": "stdout",
     "output_type": "stream",
     "text": [
      " AtlanticSpottedDolphin     LeopardSeal\n",
      " BeardedSeal\t\t   'LongBeaked(Pacific)CommonDolphin'\n",
      " Beluga_WhiteWhale\t    Long_FinnedPilotWhale\n",
      " BlueWhale\t\t    MelonHeadedWhale\n",
      " BottlenoseDolphin\t    MinkeWhale\n",
      " Boutu_AmazonRiverDolphin   Narwhal\n",
      " BowheadWhale\t\t    NewZealandFurSeal\n",
      " ClymeneDolphin\t\t    NorthernRightWhale\n",
      "\"Commerson'sDolphin\"\t    PantropicalSpottedDolphin\n",
      " CommonDolphin\t\t    README.MD\n",
      "\"Dall'sPorpoise\"\t    RibbonSeal\n",
      " DuskyDolphin\t\t    RingedSeal\n",
      " FalseKillerWhale\t    RossSeal\n",
      " Fin_FinbackWhale\t    Rough_ToothedDolphin\n",
      " FinlessPorpoise\t    SeaOtter\n",
      "\"Fraser'sDolphin\"\t   'Short_Finned(Pacific)PilotWhale'\n",
      "\"Grampus_Risso'sDolphin\"    SouthernRightWhale\n",
      " GraySeal\t\t    SpermWhale\n",
      " GrayWhale\t\t    SpinnerDolphin\n",
      " HarborPorpoise\t\t    SpottedSeal\n",
      " HarbourSeal\t\t    StellerSeaLion\n",
      " HarpSeal\t\t    StripedDolphin\n",
      "\"Heaviside'sDolphin\"\t    TucuxiDolphin\n",
      " HoodedSeal\t\t    Walrus\n",
      " HumpbackWhale\t\t    WeddellSeal\n",
      " IrawaddyDolphin\t    WestIndianManatee\n",
      " JuanFernandezFurSeal\t    White_beakedDolphin\n",
      " KillerWhale\t\t    White_sidedDolphin\n"
     ]
    }
   ],
   "source": [
    "!ls ../../Dataset/Audios/Watkins\\ Marine\\ Mammals"
   ]
  },
  {
   "cell_type": "code",
   "execution_count": 16,
   "metadata": {},
   "outputs": [
    {
     "name": "stdout",
     "output_type": "stream",
     "text": [
      "- White_sidedDolphin: 560\n",
      "- Long_FinnedPilotWhale: 1213\n",
      "- Fraser'sDolphin: 199\n",
      "- RibbonSeal: 45\n",
      "- FalseKillerWhale: 508\n",
      "- Grampus_Risso'sDolphin: 359\n",
      "- StellerSeaLion: 6\n",
      "- ClymeneDolphin: 328\n",
      "- Walrus: 273\n",
      "- FinlessPorpoise: 2\n",
      "- WestIndianManatee: 78\n",
      "- Rough_ToothedDolphin: 98\n",
      "- Short_Finned(Pacific)PilotWhale: 619\n",
      "- MinkeWhale: 24\n",
      "- KillerWhale: 2647\n",
      "- SeaOtter: 2\n",
      "- LeopardSeal: 51\n",
      "- BottlenoseDolphin: 189\n",
      "- Commerson'sDolphin: 1\n",
      "- HarbourSeal: 1\n",
      "- Dall'sPorpoise: 52\n",
      "- Narwhal: 91\n",
      "- BowheadWhale: 407\n",
      "- HumpbackWhale: 604\n",
      "- Beluga_WhiteWhale: 150\n",
      "- BeardedSeal: 142\n",
      "- White_beakedDolphin: 196\n",
      "- HoodedSeal: 2\n",
      "- BlueWhale: 3\n",
      "- CommonDolphin: 884\n",
      "- JuanFernandezFurSeal: 4\n",
      "- TucuxiDolphin: 12\n",
      "- NewZealandFurSeal: 2\n",
      "- SpermWhale: 1422\n",
      "- RossSeal: 149\n",
      "- GraySeal: 7\n",
      "- SpinnerDolphin: 524\n",
      "- DuskyDolphin: 27\n",
      "- IrawaddyDolphin: 5\n",
      "- SpottedSeal: 22\n",
      "- WeddellSeal: 133\n",
      "- Heaviside'sDolphin: 14\n",
      "- PantropicalSpottedDolphin: 1034\n",
      "- Boutu_AmazonRiverDolphin: 30\n",
      "- NorthernRightWhale: 486\n",
      "- HarborPorpoise: 46\n",
      "- StripedDolphin: 681\n",
      "- LongBeaked(Pacific)CommonDolphin: 69\n",
      "- Fin_FinbackWhale: 583\n",
      "- MelonHeadedWhale: 161\n",
      "- GrayWhale: 36\n",
      "- HarpSeal: 47\n",
      "- SouthernRightWhale: 49\n",
      "- AtlanticSpottedDolphin: 244\n",
      "- RingedSeal: 46\n",
      "\n",
      "Total number of audio files: 15567\n",
      "\n",
      "Folder with minimum audio files: Commerson'sDolphin (1 files)\n",
      "Folder with maximum audio files: KillerWhale (2647 files)\n",
      "Mean number of audio files per folder: 283.04\n"
     ]
    }
   ],
   "source": [
    "# Go to folder Marine Mammals and print name of folder and the number of files in each folder:\n",
    "count = 0\n",
    "for folder in os.listdir('../../Dataset/Audios/Watkins Marine Mammals'):\n",
    "    if folder == 'README.MD':\n",
    "        continue\n",
    "    print(f\"- {folder}: {len(os.listdir('../../Dataset/Audios/Watkins Marine Mammals/' + folder))}\")\n",
    "    count += len(os.listdir('../../Dataset/Audios/Watkins Marine Mammals/' + folder))\n",
    "\n",
    "print(f\"\\nTotal number of audio files: {count}\")\n",
    "folders = [folder for folder in os.listdir('../../Dataset/Audios/Watkins Marine Mammals') if folder != 'README.MD']\n",
    "file_counts = [len(os.listdir('../../Dataset/Audios/Watkins Marine Mammals/' + folder)) for folder in folders]\n",
    "\n",
    "min_files = min(file_counts)\n",
    "max_files = max(file_counts)\n",
    "mean_files = np.mean(file_counts)\n",
    "\n",
    "min_folder = folders[file_counts.index(min_files)]\n",
    "max_folder = folders[file_counts.index(max_files)]\n",
    "\n",
    "print(f\"\\nFolder with minimum audio files: {min_folder} ({min_files} files)\")\n",
    "print(f\"Folder with maximum audio files: {max_folder} ({max_files} files)\")\n",
    "print(f\"Mean number of audio files per folder: {mean_files:.2f}\")"
   ]
  }
 ],
 "metadata": {
  "kernelspec": {
   "display_name": "BirdNET",
   "language": "python",
   "name": "python3"
  },
  "language_info": {
   "codemirror_mode": {
    "name": "ipython",
    "version": 3
   },
   "file_extension": ".py",
   "mimetype": "text/x-python",
   "name": "python",
   "nbconvert_exporter": "python",
   "pygments_lexer": "ipython3",
   "version": "3.10.15"
  }
 },
 "nbformat": 4,
 "nbformat_minor": 2
}
